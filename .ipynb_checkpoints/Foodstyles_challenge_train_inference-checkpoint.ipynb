{
 "cells": [
  {
   "cell_type": "code",
   "execution_count": 1,
   "id": "64e25b1e",
   "metadata": {
    "id": "64e25b1e"
   },
   "outputs": [],
   "source": [
    "import pandas as pd\n",
    "from collections import Counter"
   ]
  },
  {
   "cell_type": "code",
   "execution_count": 2,
   "id": "hc0uEvYqGxNx",
   "metadata": {
    "colab": {
     "base_uri": "https://localhost:8080/"
    },
    "id": "hc0uEvYqGxNx",
    "outputId": "d3ddef78-3792-441d-ecd9-dd2ffd8d22aa"
   },
   "outputs": [
    {
     "name": "stdout",
     "output_type": "stream",
     "text": [
      "Drive already mounted at /content/drive; to attempt to forcibly remount, call drive.mount(\"/content/drive\", force_remount=True).\n"
     ]
    }
   ],
   "source": [
    "#set up colab\n",
    "from google.colab import drive\n",
    "drive.mount('/content/drive')"
   ]
  },
  {
   "cell_type": "code",
   "execution_count": null,
   "id": "1f68992f",
   "metadata": {
    "colab": {
     "base_uri": "https://localhost:8080/"
    },
    "id": "1f68992f",
    "outputId": "bbb0d30b-f722-4919-adea-d166bb124859"
   },
   "outputs": [],
   "source": [
    "#read the data\n",
    "filename=\"drive/MyDrive/recipes.csv\"\n",
    "df=pd.read_csv(filename,error_bad_lines=False)"
   ]
  },
  {
   "cell_type": "code",
   "execution_count": 4,
   "id": "6d94f17a",
   "metadata": {
    "colab": {
     "base_uri": "https://localhost:8080/",
     "height": 1000
    },
    "id": "6d94f17a",
    "outputId": "d87c82a6-35fd-4f5a-da38-5ba170612587"
   },
   "outputs": [
    {
     "data": {
      "text/html": [
       "<div>\n",
       "<style scoped>\n",
       "    .dataframe tbody tr th:only-of-type {\n",
       "        vertical-align: middle;\n",
       "    }\n",
       "\n",
       "    .dataframe tbody tr th {\n",
       "        vertical-align: top;\n",
       "    }\n",
       "\n",
       "    .dataframe thead th {\n",
       "        text-align: right;\n",
       "    }\n",
       "</style>\n",
       "<table border=\"1\" class=\"dataframe\">\n",
       "  <thead>\n",
       "    <tr style=\"text-align: right;\">\n",
       "      <th></th>\n",
       "      <th></th>\n",
       "      <th></th>\n",
       "      <th></th>\n",
       "      <th></th>\n",
       "      <th></th>\n",
       "      <th></th>\n",
       "      <th></th>\n",
       "      <th></th>\n",
       "      <th></th>\n",
       "      <th></th>\n",
       "      <th></th>\n",
       "      <th>Recipe Name;Review Count;Recipe Photo;Author;Prepare Time;Cook Time;Total Time;Ingredients;Directions;RecipeID</th>\n",
       "    </tr>\n",
       "  </thead>\n",
       "  <tbody>\n",
       "    <tr>\n",
       "      <th>Golden Crescent Rolls Recipe ;304;https://images.media-allrecipes.com/userphotos/560x315/4465807.jpg;Mike A.;25 m;15 m;3 h 10 m;yeast</th>\n",
       "      <th>water</th>\n",
       "      <th>white sugar</th>\n",
       "      <th>salt</th>\n",
       "      <th>egg</th>\n",
       "      <th>butter</th>\n",
       "      <th>flour</th>\n",
       "      <th>butter;Dissolve yeast in warm water.**Stir in sugar</th>\n",
       "      <th>salt</th>\n",
       "      <th>eggs</th>\n",
       "      <th>butter</th>\n",
       "      <th>and 2 cups of flour. Beat until smooth. Mix in remaining flour until smooth. Scrape dough from side of bowl. Knead dough</th>\n",
       "      <td>then cover it and let rise in a warm place un...</td>\n",
       "    </tr>\n",
       "    <tr>\n",
       "      <th>Cottage Cheese Bread II Recipe ;27;https://images.media-allrecipes.com/userphotos/560x315/3129162.jpg;Kathy Nowell;5 m;3 h;3 h 5 m;water</th>\n",
       "      <th>cottage cheese</th>\n",
       "      <th>vegetable oil</th>\n",
       "      <th>egg</th>\n",
       "      <th>flour</th>\n",
       "      <th>white sugar</th>\n",
       "      <th>baking soda</th>\n",
       "      <th>salt</th>\n",
       "      <th>yeast;Add the ingredients to the pan of your bread machine in the order suggested by the manufacturer</th>\n",
       "      <th>and Start. You can use more bread flour if the dough seems too sticky.**;7012</th>\n",
       "      <th>NaN</th>\n",
       "      <th>NaN</th>\n",
       "      <td>NaN</td>\n",
       "    </tr>\n",
       "    <tr>\n",
       "      <th>French Toast I Recipe ;1k;https://images.media-allrecipes.com/userphotos/560x315/234562.jpg;Jan Bittner;5 m;15 m;20 m;bread</th>\n",
       "      <th>egg</th>\n",
       "      <th>milk</th>\n",
       "      <th>cinnamon</th>\n",
       "      <th>nutmeg</th>\n",
       "      <th>vanilla</th>\n",
       "      <th>salt;Beat together egg</th>\n",
       "      <th>milk</th>\n",
       "      <th>salt</th>\n",
       "      <th>desired spices and vanilla.**Heat a lightly oiled griddle or skillet over medium-high heat.**Dunk each slice of bread in egg mixture</th>\n",
       "      <th>soaking both sides.  Place in pan</th>\n",
       "      <th>and cook on both sides until golden.  Serve hot.**;7016</th>\n",
       "      <td>NaN</td>\n",
       "    </tr>\n",
       "    <tr>\n",
       "      <th>Indian Naan II Recipe ;107;https://images.media-allrecipes.com/userphotos/250x250/96729.jpg;Michelle Chen;25 m;20 m;2 h 25 m;water</th>\n",
       "      <th>yeast</th>\n",
       "      <th>white sugar</th>\n",
       "      <th>flour</th>\n",
       "      <th>salt</th>\n",
       "      <th>ghee</th>\n",
       "      <th>yogurt</th>\n",
       "      <th>onion;Whisk the warm water with the yeast and sugar until the yeast is dissolved. Cover and let stand in a warm place for 10 minutes.**Sift flour and salt three times into a large bowl add the yeast mixture</th>\n",
       "      <th>half of the ghee and all the yogurt. Mix into a soft dough then knead on a floured surface for about 5 minutes or until dough is smooth and elastic. Place the dough in a large greased bowl</th>\n",
       "      <th>cover and let stand in a warm place for 1 1/2 hours or until the dough is doubled in size .**Punch down dough then knead for 5 minutes. Divide dough into 6 pieces. Roll each piece out into 8 inch round naans.**Cover an oven tray with foil and grease the foil. Brush the naan with a little of the remaining ghee and sprinkle with some of the kalonji. Cook naan one at a time under the broiler for about 2 minutes on each side or until puffed and just browned.**;7021</th>\n",
       "      <th>NaN</th>\n",
       "      <th>NaN</th>\n",
       "      <td>NaN</td>\n",
       "    </tr>\n",
       "    <tr>\n",
       "      <th>Lefse II Recipe ;12;https://images.media-allrecipes.com/userphotos/560x315/996053.jpg;Brent;15 m;45 m;1 h;buttermilk</th>\n",
       "      <th>corn syrup</th>\n",
       "      <th>white sugar</th>\n",
       "      <th>baking soda</th>\n",
       "      <th>cardamom</th>\n",
       "      <th>flour;In a large bowl</th>\n",
       "      <th>mix by hand sour milk or buttermilk</th>\n",
       "      <th>corn syrup</th>\n",
       "      <th>sugar</th>\n",
       "      <th>soda</th>\n",
       "      <th>cardamom</th>\n",
       "      <th>and flour until mixture becomes a soft pliable dough.**Divide the dough into 12 or so pieces. Roll out each piece until about 1/8 inch thick.**Bake on a lightly floured griddle over very low heat for 12 to 15 minutes per side. Serve warm with your favorite cheese or jam.**;7022</th>\n",
       "      <td>NaN</td>\n",
       "    </tr>\n",
       "  </tbody>\n",
       "</table>\n",
       "</div>"
      ],
      "text/plain": [
       "                                                                                                                                                                                                                                                                                                                                                                                                               Recipe Name;Review Count;Recipe Photo;Author;Prepare Time;Cook Time;Total Time;Ingredients;Directions;RecipeID\n",
       "Golden Crescent Rolls Recipe ;304;https://image... water          white sugar   salt        egg      butter                flour                                butter;Dissolve yeast in warm water.**Stir in s...  salt                                               eggs                                               butter                             and 2 cups of flour. Beat until smooth. Mix in...   then cover it and let rise in a warm place un...                                                            \n",
       "Cottage Cheese Bread II Recipe ;27;https://imag... cottage cheese vegetable oil egg         flour    white sugar           baking soda                          salt                                               yeast;Add the ingredients to the pan of your br...  and Start. You can use more bread flour if the... NaN                                NaN                                                                                               NaN                                                            \n",
       "French Toast I Recipe ;1k;https://images.media-... egg            milk          cinnamon    nutmeg   vanilla               salt;Beat together egg                milk                                               salt                                               desired spices and vanilla.**Heat a lightly oi...  soaking both sides.  Place in pan  and cook on both sides until golden.  Serve ho...                                                NaN                                                            \n",
       "Indian Naan II Recipe ;107;https://images.media... yeast          white sugar   flour       salt     ghee                  yogurt                               onion;Whisk the warm water with the yeast and s...  half of the ghee and all the yogurt. Mix into ...  cover and let stand in a warm place for 1 1/2 ... NaN                                NaN                                                                                               NaN                                                            \n",
       "Lefse II Recipe ;12;https://images.media-allrec... corn syrup     white sugar   baking soda cardamom flour;In a large bowl  mix by hand sour milk or buttermilk  corn syrup                                         sugar                                              soda                                               cardamom                           and flour until mixture becomes a soft pliable...                                                NaN                                                            "
      ]
     },
     "execution_count": 4,
     "metadata": {},
     "output_type": "execute_result"
    }
   ],
   "source": [
    "#see how the data looks like\n",
    "df.head()\n",
    "#we can see that the rows are not read correcctly, because the separating character seems to be ';' instead of ','"
   ]
  },
  {
   "cell_type": "code",
   "execution_count": 5,
   "id": "e585c82f",
   "metadata": {
    "id": "e585c82f"
   },
   "outputs": [],
   "source": [
    "#so let's read the data again, this time specifying the right separator\n",
    "df=pd.read_csv(filename,sep=';')"
   ]
  },
  {
   "cell_type": "code",
   "execution_count": 6,
   "id": "6fc4b0f3",
   "metadata": {
    "colab": {
     "base_uri": "https://localhost:8080/",
     "height": 357
    },
    "id": "6fc4b0f3",
    "outputId": "8acdea61-5e6b-42a6-bec2-40aa82b7084f"
   },
   "outputs": [
    {
     "data": {
      "text/html": [
       "<div>\n",
       "<style scoped>\n",
       "    .dataframe tbody tr th:only-of-type {\n",
       "        vertical-align: middle;\n",
       "    }\n",
       "\n",
       "    .dataframe tbody tr th {\n",
       "        vertical-align: top;\n",
       "    }\n",
       "\n",
       "    .dataframe thead th {\n",
       "        text-align: right;\n",
       "    }\n",
       "</style>\n",
       "<table border=\"1\" class=\"dataframe\">\n",
       "  <thead>\n",
       "    <tr style=\"text-align: right;\">\n",
       "      <th></th>\n",
       "      <th>Recipe Name</th>\n",
       "      <th>Review Count</th>\n",
       "      <th>Recipe Photo</th>\n",
       "      <th>Author</th>\n",
       "      <th>Prepare Time</th>\n",
       "      <th>Cook Time</th>\n",
       "      <th>Total Time</th>\n",
       "      <th>Ingredients</th>\n",
       "      <th>Directions</th>\n",
       "      <th>RecipeID</th>\n",
       "    </tr>\n",
       "  </thead>\n",
       "  <tbody>\n",
       "    <tr>\n",
       "      <th>0</th>\n",
       "      <td>Golden Crescent Rolls Recipe</td>\n",
       "      <td>304</td>\n",
       "      <td>https://images.media-allrecipes.com/userphotos...</td>\n",
       "      <td>Mike A.</td>\n",
       "      <td>25 m</td>\n",
       "      <td>15 m</td>\n",
       "      <td>3 h 10 m</td>\n",
       "      <td>yeast,water,white sugar,salt,egg,butter,flour,...</td>\n",
       "      <td>Dissolve yeast in warm water.**Stir in sugar, ...</td>\n",
       "      <td>7000</td>\n",
       "    </tr>\n",
       "    <tr>\n",
       "      <th>1</th>\n",
       "      <td>Poppy Seed Bread with Glaze Recipe</td>\n",
       "      <td>137</td>\n",
       "      <td>https://images.media-allrecipes.com/userphotos...</td>\n",
       "      <td>Christina Jun</td>\n",
       "      <td>15 m</td>\n",
       "      <td>1 h</td>\n",
       "      <td>1 h 20 m</td>\n",
       "      <td>flour,salt,baking powder,poppy,butter,vegetabl...</td>\n",
       "      <td>'Preheat oven to 350 degrees F (175 degrees C)...</td>\n",
       "      <td>7001</td>\n",
       "    </tr>\n",
       "    <tr>\n",
       "      <th>2</th>\n",
       "      <td>Applesauce Bread I Recipe</td>\n",
       "      <td>124</td>\n",
       "      <td>https://images.media-allrecipes.com/userphotos...</td>\n",
       "      <td>GAF55</td>\n",
       "      <td>10 m</td>\n",
       "      <td>1 h 20 m</td>\n",
       "      <td>1 h 30 m</td>\n",
       "      <td>flour,egg,white sugar,vegetable oil,applesauce...</td>\n",
       "      <td>Preheat oven to 350 degrees F (175 degrees C)....</td>\n",
       "      <td>7003</td>\n",
       "    </tr>\n",
       "    <tr>\n",
       "      <th>3</th>\n",
       "      <td>Apple Raisin Bread Recipe</td>\n",
       "      <td>39</td>\n",
       "      <td>https://images.media-allrecipes.com/userphotos...</td>\n",
       "      <td>Helen Hanson</td>\n",
       "      <td>15 m</td>\n",
       "      <td>1 h</td>\n",
       "      <td>1 h 15 m</td>\n",
       "      <td>flour,baking powder,baking soda,salt,cinnamon,...</td>\n",
       "      <td>Preheat oven to 350 degrees F (175 degrees C)....</td>\n",
       "      <td>7006</td>\n",
       "    </tr>\n",
       "    <tr>\n",
       "      <th>4</th>\n",
       "      <td>Buttermilk Oatmeal Bread Recipe</td>\n",
       "      <td>41</td>\n",
       "      <td>https://images.media-allrecipes.com/userphotos...</td>\n",
       "      <td>Helen Hanson</td>\n",
       "      <td>10 m</td>\n",
       "      <td>1 h</td>\n",
       "      <td>1 h 40 m</td>\n",
       "      <td>oat,buttermilk,vegetable oil,egg,brown sugar,f...</td>\n",
       "      <td>Mix oats with buttermilk.  Let stand for 1/2 h...</td>\n",
       "      <td>7007</td>\n",
       "    </tr>\n",
       "  </tbody>\n",
       "</table>\n",
       "</div>"
      ],
      "text/plain": [
       "                           Recipe Name  ... RecipeID\n",
       "0        Golden Crescent Rolls Recipe   ...     7000\n",
       "1  Poppy Seed Bread with Glaze Recipe   ...     7001\n",
       "2           Applesauce Bread I Recipe   ...     7003\n",
       "3           Apple Raisin Bread Recipe   ...     7006\n",
       "4     Buttermilk Oatmeal Bread Recipe   ...     7007\n",
       "\n",
       "[5 rows x 10 columns]"
      ]
     },
     "execution_count": 6,
     "metadata": {},
     "output_type": "execute_result"
    }
   ],
   "source": [
    "#when looking at the dataframe, we can see that everything is read correctly\n",
    "df.head()"
   ]
  },
  {
   "cell_type": "code",
   "execution_count": 7,
   "id": "6430c485",
   "metadata": {
    "colab": {
     "base_uri": "https://localhost:8080/",
     "height": 424
    },
    "id": "6430c485",
    "outputId": "17ac734f-d16b-4cfd-ff32-06e46f09079f"
   },
   "outputs": [
    {
     "data": {
      "text/html": [
       "<div>\n",
       "<style scoped>\n",
       "    .dataframe tbody tr th:only-of-type {\n",
       "        vertical-align: middle;\n",
       "    }\n",
       "\n",
       "    .dataframe tbody tr th {\n",
       "        vertical-align: top;\n",
       "    }\n",
       "\n",
       "    .dataframe thead th {\n",
       "        text-align: right;\n",
       "    }\n",
       "</style>\n",
       "<table border=\"1\" class=\"dataframe\">\n",
       "  <thead>\n",
       "    <tr style=\"text-align: right;\">\n",
       "      <th></th>\n",
       "      <th>Recipe Name</th>\n",
       "      <th>Review Count</th>\n",
       "      <th>Recipe Photo</th>\n",
       "      <th>Author</th>\n",
       "      <th>Prepare Time</th>\n",
       "      <th>Cook Time</th>\n",
       "      <th>Total Time</th>\n",
       "      <th>Ingredients</th>\n",
       "      <th>Directions</th>\n",
       "      <th>RecipeID</th>\n",
       "    </tr>\n",
       "  </thead>\n",
       "  <tbody>\n",
       "    <tr>\n",
       "      <th>count</th>\n",
       "      <td>12351</td>\n",
       "      <td>12351</td>\n",
       "      <td>12351</td>\n",
       "      <td>12351</td>\n",
       "      <td>12351</td>\n",
       "      <td>12351</td>\n",
       "      <td>12351</td>\n",
       "      <td>12351</td>\n",
       "      <td>12345</td>\n",
       "      <td>12351.000000</td>\n",
       "    </tr>\n",
       "    <tr>\n",
       "      <th>unique</th>\n",
       "      <td>11964</td>\n",
       "      <td>741</td>\n",
       "      <td>11248</td>\n",
       "      <td>6582</td>\n",
       "      <td>73</td>\n",
       "      <td>110</td>\n",
       "      <td>301</td>\n",
       "      <td>12097</td>\n",
       "      <td>12184</td>\n",
       "      <td>NaN</td>\n",
       "    </tr>\n",
       "    <tr>\n",
       "      <th>top</th>\n",
       "      <td>Old</td>\n",
       "      <td>4</td>\n",
       "      <td>https://images.media-allrecipes.com/images/795...</td>\n",
       "      <td>sal</td>\n",
       "      <td>X</td>\n",
       "      <td>X</td>\n",
       "      <td>X</td>\n",
       "      <td>flour,salt,shortening,water</td>\n",
       "      <td>'Preheat oven to 350 degrees F (175 degrees C).</td>\n",
       "      <td>NaN</td>\n",
       "    </tr>\n",
       "    <tr>\n",
       "      <th>freq</th>\n",
       "      <td>17</td>\n",
       "      <td>347</td>\n",
       "      <td>971</td>\n",
       "      <td>274</td>\n",
       "      <td>4156</td>\n",
       "      <td>5877</td>\n",
       "      <td>4091</td>\n",
       "      <td>4</td>\n",
       "      <td>5</td>\n",
       "      <td>NaN</td>\n",
       "    </tr>\n",
       "    <tr>\n",
       "      <th>mean</th>\n",
       "      <td>NaN</td>\n",
       "      <td>NaN</td>\n",
       "      <td>NaN</td>\n",
       "      <td>NaN</td>\n",
       "      <td>NaN</td>\n",
       "      <td>NaN</td>\n",
       "      <td>NaN</td>\n",
       "      <td>NaN</td>\n",
       "      <td>NaN</td>\n",
       "      <td>16149.829326</td>\n",
       "    </tr>\n",
       "    <tr>\n",
       "      <th>std</th>\n",
       "      <td>NaN</td>\n",
       "      <td>NaN</td>\n",
       "      <td>NaN</td>\n",
       "      <td>NaN</td>\n",
       "      <td>NaN</td>\n",
       "      <td>NaN</td>\n",
       "      <td>NaN</td>\n",
       "      <td>NaN</td>\n",
       "      <td>NaN</td>\n",
       "      <td>5745.770833</td>\n",
       "    </tr>\n",
       "    <tr>\n",
       "      <th>min</th>\n",
       "      <td>NaN</td>\n",
       "      <td>NaN</td>\n",
       "      <td>NaN</td>\n",
       "      <td>NaN</td>\n",
       "      <td>NaN</td>\n",
       "      <td>NaN</td>\n",
       "      <td>NaN</td>\n",
       "      <td>NaN</td>\n",
       "      <td>NaN</td>\n",
       "      <td>7000.000000</td>\n",
       "    </tr>\n",
       "    <tr>\n",
       "      <th>25%</th>\n",
       "      <td>NaN</td>\n",
       "      <td>NaN</td>\n",
       "      <td>NaN</td>\n",
       "      <td>NaN</td>\n",
       "      <td>NaN</td>\n",
       "      <td>NaN</td>\n",
       "      <td>NaN</td>\n",
       "      <td>NaN</td>\n",
       "      <td>NaN</td>\n",
       "      <td>11150.500000</td>\n",
       "    </tr>\n",
       "    <tr>\n",
       "      <th>50%</th>\n",
       "      <td>NaN</td>\n",
       "      <td>NaN</td>\n",
       "      <td>NaN</td>\n",
       "      <td>NaN</td>\n",
       "      <td>NaN</td>\n",
       "      <td>NaN</td>\n",
       "      <td>NaN</td>\n",
       "      <td>NaN</td>\n",
       "      <td>NaN</td>\n",
       "      <td>15564.000000</td>\n",
       "    </tr>\n",
       "    <tr>\n",
       "      <th>75%</th>\n",
       "      <td>NaN</td>\n",
       "      <td>NaN</td>\n",
       "      <td>NaN</td>\n",
       "      <td>NaN</td>\n",
       "      <td>NaN</td>\n",
       "      <td>NaN</td>\n",
       "      <td>NaN</td>\n",
       "      <td>NaN</td>\n",
       "      <td>NaN</td>\n",
       "      <td>20889.500000</td>\n",
       "    </tr>\n",
       "    <tr>\n",
       "      <th>max</th>\n",
       "      <td>NaN</td>\n",
       "      <td>NaN</td>\n",
       "      <td>NaN</td>\n",
       "      <td>NaN</td>\n",
       "      <td>NaN</td>\n",
       "      <td>NaN</td>\n",
       "      <td>NaN</td>\n",
       "      <td>NaN</td>\n",
       "      <td>NaN</td>\n",
       "      <td>27546.000000</td>\n",
       "    </tr>\n",
       "  </tbody>\n",
       "</table>\n",
       "</div>"
      ],
      "text/plain": [
       "       Recipe Name  ...      RecipeID\n",
       "count        12351  ...  12351.000000\n",
       "unique       11964  ...           NaN\n",
       "top            Old  ...           NaN\n",
       "freq            17  ...           NaN\n",
       "mean           NaN  ...  16149.829326\n",
       "std            NaN  ...   5745.770833\n",
       "min            NaN  ...   7000.000000\n",
       "25%            NaN  ...  11150.500000\n",
       "50%            NaN  ...  15564.000000\n",
       "75%            NaN  ...  20889.500000\n",
       "max            NaN  ...  27546.000000\n",
       "\n",
       "[11 rows x 10 columns]"
      ]
     },
     "execution_count": 7,
     "metadata": {},
     "output_type": "execute_result"
    }
   ],
   "source": [
    "#let's see some statistics about our data\n",
    "df.describe(include=\"all\")\n",
    "#we can see that we have 12351 recipes, but since the data is mostly text, some of the statistical information cannot be computed"
   ]
  },
  {
   "cell_type": "code",
   "execution_count": 8,
   "id": "f3d86249",
   "metadata": {
    "colab": {
     "base_uri": "https://localhost:8080/"
    },
    "id": "f3d86249",
    "outputId": "233faad1-ece1-4e97-e63d-c47dde971b9f"
   },
   "outputs": [
    {
     "data": {
      "text/plain": [
       "(12351, 10)"
      ]
     },
     "execution_count": 8,
     "metadata": {},
     "output_type": "execute_result"
    }
   ],
   "source": [
    "#let's inspect the shape of the df, it should have 12351 rows\n",
    "df.shape\n",
    "#that's correct, and we can see that we have 10 columns"
   ]
  },
  {
   "cell_type": "markdown",
   "id": "81302704",
   "metadata": {
    "id": "81302704"
   },
   "source": [
    "### Preprocessing\n",
    "\n",
    "For preprocessing, we are mostly interested in dealing with missing data. There might be errors in the text, but we are supposed to make the AI take them into account to and deal with them, so we won't remove or fix them."
   ]
  },
  {
   "cell_type": "code",
   "execution_count": 9,
   "id": "f93d03f4",
   "metadata": {
    "colab": {
     "base_uri": "https://localhost:8080/"
    },
    "id": "f93d03f4",
    "outputId": "18e9074d-f5fb-4bee-bf6c-b369b78d938a"
   },
   "outputs": [
    {
     "data": {
      "text/plain": [
       "True"
      ]
     },
     "execution_count": 9,
     "metadata": {},
     "output_type": "execute_result"
    }
   ],
   "source": [
    "#check for NaN values\n",
    "df.isnull().values.any()"
   ]
  },
  {
   "cell_type": "code",
   "execution_count": 10,
   "id": "1ac9d688",
   "metadata": {
    "colab": {
     "base_uri": "https://localhost:8080/"
    },
    "id": "1ac9d688",
    "outputId": "bf976df3-0155-4cf3-ef81-ef8ab6056e51"
   },
   "outputs": [
    {
     "data": {
      "text/plain": [
       "6"
      ]
     },
     "execution_count": 10,
     "metadata": {},
     "output_type": "execute_result"
    }
   ],
   "source": [
    "#it seems like we have missing values, let's see in how many rows\n",
    "df.isnull().values.sum()"
   ]
  },
  {
   "cell_type": "code",
   "execution_count": 11,
   "id": "58d3ca53",
   "metadata": {
    "colab": {
     "base_uri": "https://localhost:8080/",
     "height": 405
    },
    "id": "58d3ca53",
    "outputId": "c664a28b-d88a-4a10-96bd-7052d85a41dc"
   },
   "outputs": [
    {
     "data": {
      "text/html": [
       "<div>\n",
       "<style scoped>\n",
       "    .dataframe tbody tr th:only-of-type {\n",
       "        vertical-align: middle;\n",
       "    }\n",
       "\n",
       "    .dataframe tbody tr th {\n",
       "        vertical-align: top;\n",
       "    }\n",
       "\n",
       "    .dataframe thead th {\n",
       "        text-align: right;\n",
       "    }\n",
       "</style>\n",
       "<table border=\"1\" class=\"dataframe\">\n",
       "  <thead>\n",
       "    <tr style=\"text-align: right;\">\n",
       "      <th></th>\n",
       "      <th>Recipe Name</th>\n",
       "      <th>Review Count</th>\n",
       "      <th>Recipe Photo</th>\n",
       "      <th>Author</th>\n",
       "      <th>Prepare Time</th>\n",
       "      <th>Cook Time</th>\n",
       "      <th>Total Time</th>\n",
       "      <th>Ingredients</th>\n",
       "      <th>Directions</th>\n",
       "      <th>RecipeID</th>\n",
       "    </tr>\n",
       "  </thead>\n",
       "  <tbody>\n",
       "    <tr>\n",
       "      <th>292</th>\n",
       "      <td>Sunshine Cake Recipe</td>\n",
       "      <td>9</td>\n",
       "      <td>https://images.media-allrecipes.com/userphotos...</td>\n",
       "      <td>Helga</td>\n",
       "      <td>X</td>\n",
       "      <td>X</td>\n",
       "      <td>X</td>\n",
       "      <td>egg,white sugar,water,flour,baking powder,salt...</td>\n",
       "      <td>NaN</td>\n",
       "      <td>7378</td>\n",
       "    </tr>\n",
       "    <tr>\n",
       "      <th>3818</th>\n",
       "      <td>Cherry Pie I Recipe</td>\n",
       "      <td>11</td>\n",
       "      <td>https://images.media-allrecipes.com/userphotos...</td>\n",
       "      <td>Cali</td>\n",
       "      <td>X</td>\n",
       "      <td>X</td>\n",
       "      <td>X</td>\n",
       "      <td>vanilla,gelatin,water,cherry,white sugar,corns...</td>\n",
       "      <td>NaN</td>\n",
       "      <td>12251</td>\n",
       "    </tr>\n",
       "    <tr>\n",
       "      <th>4320</th>\n",
       "      <td>Quick Clam Chowder Recipe</td>\n",
       "      <td>42</td>\n",
       "      <td>https://images.media-allrecipes.com/userphotos...</td>\n",
       "      <td>Lew Sweet</td>\n",
       "      <td>X</td>\n",
       "      <td>X</td>\n",
       "      <td>X</td>\n",
       "      <td>england,potato,celery,clam,onion,celery,margar...</td>\n",
       "      <td>NaN</td>\n",
       "      <td>12981</td>\n",
       "    </tr>\n",
       "    <tr>\n",
       "      <th>6238</th>\n",
       "      <td>Hot Clam Dip II Recipe</td>\n",
       "      <td>30</td>\n",
       "      <td>https://images.media-allrecipes.com/userphotos...</td>\n",
       "      <td>lara</td>\n",
       "      <td>X</td>\n",
       "      <td>X</td>\n",
       "      <td>X</td>\n",
       "      <td>bread,cream cheese,onion,beer,worcestershire s...</td>\n",
       "      <td>NaN</td>\n",
       "      <td>15648</td>\n",
       "    </tr>\n",
       "    <tr>\n",
       "      <th>9330</th>\n",
       "      <td>Chocolate Sausage (Salame di Cioccolato) Recipe</td>\n",
       "      <td>2</td>\n",
       "      <td>https://images.media-allrecipes.com/images/795...</td>\n",
       "      <td>Manuela</td>\n",
       "      <td>X</td>\n",
       "      <td>X</td>\n",
       "      <td>X</td>\n",
       "      <td>white sugar,egg,egg,butter,cocoa powder,cookie...</td>\n",
       "      <td>NaN</td>\n",
       "      <td>21002</td>\n",
       "    </tr>\n",
       "    <tr>\n",
       "      <th>10676</th>\n",
       "      <td>Oatmeal Kiss Cookies Recipe</td>\n",
       "      <td>6</td>\n",
       "      <td>https://images.media-allrecipes.com/userphotos...</td>\n",
       "      <td>HersheysKitchens.com</td>\n",
       "      <td>X</td>\n",
       "      <td>X</td>\n",
       "      <td>X</td>\n",
       "      <td>chocolate,butter,shortening,white sugar,brown ...</td>\n",
       "      <td>NaN</td>\n",
       "      <td>24031</td>\n",
       "    </tr>\n",
       "  </tbody>\n",
       "</table>\n",
       "</div>"
      ],
      "text/plain": [
       "                                            Recipe Name  ... RecipeID\n",
       "292                               Sunshine Cake Recipe   ...     7378\n",
       "3818                               Cherry Pie I Recipe   ...    12251\n",
       "4320                         Quick Clam Chowder Recipe   ...    12981\n",
       "6238                            Hot Clam Dip II Recipe   ...    15648\n",
       "9330   Chocolate Sausage (Salame di Cioccolato) Recipe   ...    21002\n",
       "10676                      Oatmeal Kiss Cookies Recipe   ...    24031\n",
       "\n",
       "[6 rows x 10 columns]"
      ]
     },
     "execution_count": 11,
     "metadata": {},
     "output_type": "execute_result"
    }
   ],
   "source": [
    "#now let's take a look at these rows and decide how we might fix them\n",
    "missing_data=df[df.isnull().any(axis=1)]\n",
    "missing_data"
   ]
  },
  {
   "cell_type": "code",
   "execution_count": 12,
   "id": "fa1a15c8",
   "metadata": {
    "colab": {
     "base_uri": "https://localhost:8080/"
    },
    "id": "fa1a15c8",
    "outputId": "a0a11869-a20b-4bb9-c1a1-c68ec55c1ec5"
   },
   "outputs": [
    {
     "data": {
      "text/plain": [
       "(12345, 10)"
      ]
     },
     "execution_count": 12,
     "metadata": {},
     "output_type": "execute_result"
    }
   ],
   "source": [
    "#Since the missing values occur in the \"Directions\" column, which will be our imput, we cannot use these rows\n",
    "#since this happens for just 6 rows out of 12351, we can safely remove them\n",
    "df=df.drop(missing_data.index)\n",
    "#let's make sure that the rows were indeed deleted\n",
    "df.shape\n",
    "#everything seems to be fine"
   ]
  },
  {
   "cell_type": "code",
   "execution_count": 13,
   "id": "9164f0c7",
   "metadata": {
    "colab": {
     "base_uri": "https://localhost:8080/"
    },
    "id": "9164f0c7",
    "outputId": "ef37d25f-7436-488a-fc03-2da7ac2dacd7"
   },
   "outputs": [
    {
     "data": {
      "text/plain": [
       "12345"
      ]
     },
     "execution_count": 13,
     "metadata": {},
     "output_type": "execute_result"
    }
   ],
   "source": [
    "#check for \" \" values\n",
    "df['Directions'].str.contains(' ').sum()"
   ]
  },
  {
   "cell_type": "code",
   "execution_count": 14,
   "id": "7c218d47",
   "metadata": {
    "colab": {
     "base_uri": "https://localhost:8080/"
    },
    "id": "7c218d47",
    "outputId": "33d58750-f55d-4063-cc90-1a6cd57b4975"
   },
   "outputs": [
    {
     "data": {
      "text/plain": [
       "12184"
      ]
     },
     "execution_count": 14,
     "metadata": {},
     "output_type": "execute_result"
    }
   ],
   "source": [
    "#check how many unique directions there are\n",
    "len(df['Directions'].unique())"
   ]
  },
  {
   "cell_type": "code",
   "execution_count": 15,
   "id": "cb125c96",
   "metadata": {
    "colab": {
     "base_uri": "https://localhost:8080/"
    },
    "id": "cb125c96",
    "outputId": "6003ff0a-c9a4-4530-a784-c2b4f65308cb"
   },
   "outputs": [
    {
     "data": {
      "text/plain": [
       "11958"
      ]
     },
     "execution_count": 15,
     "metadata": {},
     "output_type": "execute_result"
    }
   ],
   "source": [
    "#looks like we might have some duplicates\n",
    "len(df['Recipe Name'].unique())"
   ]
  },
  {
   "cell_type": "code",
   "execution_count": 16,
   "id": "36df7d46",
   "metadata": {
    "colab": {
     "base_uri": "https://localhost:8080/"
    },
    "id": "36df7d46",
    "outputId": "aaaea776-e350-4002-8411-bd7cae27c3c5"
   },
   "outputs": [
    {
     "name": "stdout",
     "output_type": "stream",
     "text": [
      "Empty DataFrame\n",
      "Columns: [Recipe Name, Review Count, Recipe Photo, Author, Prepare Time, Cook Time, Total Time, Ingredients, Directions, RecipeID]\n",
      "Index: []\n"
     ]
    }
   ],
   "source": [
    "#let's see if there are duplicate rows\n",
    "duplicateRows = df[df.duplicated()]\n",
    "print(duplicateRows)\n",
    "#it seems that there are no duplicated rows in the dataframe. "
   ]
  },
  {
   "cell_type": "code",
   "execution_count": 17,
   "id": "14359e7a",
   "metadata": {
    "colab": {
     "base_uri": "https://localhost:8080/"
    },
    "id": "14359e7a",
    "outputId": "3f039702-a983-42b8-8fa2-e47bfb9bbdfc"
   },
   "outputs": [
    {
     "data": {
      "text/plain": [
       "387"
      ]
     },
     "execution_count": 17,
     "metadata": {},
     "output_type": "execute_result"
    }
   ],
   "source": [
    "df['Recipe Name'].duplicated().sum()"
   ]
  },
  {
   "cell_type": "code",
   "execution_count": 18,
   "id": "e77cc9f4",
   "metadata": {
    "colab": {
     "base_uri": "https://localhost:8080/"
    },
    "id": "e77cc9f4",
    "outputId": "85277d69-f381-4218-eef3-b4667beb0190"
   },
   "outputs": [
    {
     "data": {
      "text/plain": [
       "161"
      ]
     },
     "execution_count": 18,
     "metadata": {},
     "output_type": "execute_result"
    }
   ],
   "source": [
    "df['Directions'].duplicated().sum()\n",
    "#However, we have some duplicated Directions and Recipe names, so we should investigate this issue futher"
   ]
  },
  {
   "cell_type": "code",
   "execution_count": 19,
   "id": "9e3c5fb1",
   "metadata": {
    "colab": {
     "base_uri": "https://localhost:8080/",
     "height": 776
    },
    "id": "9e3c5fb1",
    "outputId": "e4c98c2f-a0ab-4ca5-a7a6-1d4923afdfd2"
   },
   "outputs": [
    {
     "data": {
      "text/html": [
       "<div>\n",
       "<style scoped>\n",
       "    .dataframe tbody tr th:only-of-type {\n",
       "        vertical-align: middle;\n",
       "    }\n",
       "\n",
       "    .dataframe tbody tr th {\n",
       "        vertical-align: top;\n",
       "    }\n",
       "\n",
       "    .dataframe thead th {\n",
       "        text-align: right;\n",
       "    }\n",
       "</style>\n",
       "<table border=\"1\" class=\"dataframe\">\n",
       "  <thead>\n",
       "    <tr style=\"text-align: right;\">\n",
       "      <th></th>\n",
       "      <th>Recipe Name</th>\n",
       "      <th>Review Count</th>\n",
       "      <th>Recipe Photo</th>\n",
       "      <th>Author</th>\n",
       "      <th>Prepare Time</th>\n",
       "      <th>Cook Time</th>\n",
       "      <th>Total Time</th>\n",
       "      <th>Ingredients</th>\n",
       "      <th>Directions</th>\n",
       "      <th>RecipeID</th>\n",
       "    </tr>\n",
       "  </thead>\n",
       "  <tbody>\n",
       "    <tr>\n",
       "      <th>278</th>\n",
       "      <td>Old</td>\n",
       "      <td>10</td>\n",
       "      <td>https://images.media-allrecipes.com/userphotos...</td>\n",
       "      <td>Winona</td>\n",
       "      <td>30 m</td>\n",
       "      <td>30 m</td>\n",
       "      <td>1 h</td>\n",
       "      <td>raisin,water,shortening,egg,flour,cinnamon,nut...</td>\n",
       "      <td>Preheat oven to 350 degrees F (175 degrees C)....</td>\n",
       "      <td>7363</td>\n",
       "    </tr>\n",
       "    <tr>\n",
       "      <th>373</th>\n",
       "      <td>Coco</td>\n",
       "      <td>80</td>\n",
       "      <td>https://images.media-allrecipes.com/userphotos...</td>\n",
       "      <td>sassysquirrel</td>\n",
       "      <td>X</td>\n",
       "      <td>X</td>\n",
       "      <td>X</td>\n",
       "      <td>flour,egg,white sugar,baking soda,vanilla,butt...</td>\n",
       "      <td>'Combine flour and white sugar in mixing bowl....</td>\n",
       "      <td>7502</td>\n",
       "    </tr>\n",
       "    <tr>\n",
       "      <th>521</th>\n",
       "      <td>Self</td>\n",
       "      <td>23</td>\n",
       "      <td>https://images.media-allrecipes.com/userphotos...</td>\n",
       "      <td>Cathy</td>\n",
       "      <td>X</td>\n",
       "      <td>X</td>\n",
       "      <td>X</td>\n",
       "      <td>cake,cream cheese,white sugar,egg,salt,chocolate</td>\n",
       "      <td>Preheat oven to 350 degrees F (175 degrees C)....</td>\n",
       "      <td>7729</td>\n",
       "    </tr>\n",
       "    <tr>\n",
       "      <th>685</th>\n",
       "      <td>Coco</td>\n",
       "      <td>43</td>\n",
       "      <td>https://images.media-allrecipes.com/userphotos...</td>\n",
       "      <td>Robin</td>\n",
       "      <td>X</td>\n",
       "      <td>X</td>\n",
       "      <td>X</td>\n",
       "      <td>white sugar,flour,cola,cocoa powder,butter,but...</td>\n",
       "      <td>'Preheat oven to 350 degrees F (175 degrees C)...</td>\n",
       "      <td>7967</td>\n",
       "    </tr>\n",
       "    <tr>\n",
       "      <th>805</th>\n",
       "      <td>Gluten</td>\n",
       "      <td>217</td>\n",
       "      <td>https://images.media-allrecipes.com/userphotos...</td>\n",
       "      <td>Amy</td>\n",
       "      <td>X</td>\n",
       "      <td>X</td>\n",
       "      <td>X</td>\n",
       "      <td>flour,tapioca,salt,baking soda,baking powder,t...</td>\n",
       "      <td>Preheat oven to 350 degrees F (175 degrees C)....</td>\n",
       "      <td>8139</td>\n",
       "    </tr>\n",
       "    <tr>\n",
       "      <th>...</th>\n",
       "      <td>...</td>\n",
       "      <td>...</td>\n",
       "      <td>...</td>\n",
       "      <td>...</td>\n",
       "      <td>...</td>\n",
       "      <td>...</td>\n",
       "      <td>...</td>\n",
       "      <td>...</td>\n",
       "      <td>...</td>\n",
       "      <td>...</td>\n",
       "    </tr>\n",
       "    <tr>\n",
       "      <th>12149</th>\n",
       "      <td>Cocktail Meatballs II Recipe</td>\n",
       "      <td>51</td>\n",
       "      <td>https://images.media-allrecipes.com/userphotos...</td>\n",
       "      <td>Jordanna</td>\n",
       "      <td>30 m</td>\n",
       "      <td>30 m</td>\n",
       "      <td>1 h</td>\n",
       "      <td>ground beef,bread,milk,black pepper,parsley,on...</td>\n",
       "      <td>In a large bowl, combine the ground beef, dry ...</td>\n",
       "      <td>26597</td>\n",
       "    </tr>\n",
       "    <tr>\n",
       "      <th>12158</th>\n",
       "      <td>No</td>\n",
       "      <td>95</td>\n",
       "      <td>https://images.media-allrecipes.com/userphotos...</td>\n",
       "      <td>Lovesmurfs</td>\n",
       "      <td>28 m</td>\n",
       "      <td>8 h</td>\n",
       "      <td>8 h 28 m</td>\n",
       "      <td>beef,onion,mushroom,mushroom,red wine</td>\n",
       "      <td>Place beef stew meat, condensed French onion s...</td>\n",
       "      <td>26632</td>\n",
       "    </tr>\n",
       "    <tr>\n",
       "      <th>12255</th>\n",
       "      <td>Shrimp Dip Recipe</td>\n",
       "      <td>11</td>\n",
       "      <td>https://images.media-allrecipes.com/userphotos...</td>\n",
       "      <td>THEMCRAES</td>\n",
       "      <td>30 m</td>\n",
       "      <td>X</td>\n",
       "      <td>1 h 30 m</td>\n",
       "      <td>cream cheese,ketchup,horseradish,shrimp</td>\n",
       "      <td>In a medium bowl, mix the cream cheese, ketchu...</td>\n",
       "      <td>26955</td>\n",
       "    </tr>\n",
       "    <tr>\n",
       "      <th>12281</th>\n",
       "      <td>Hot Chocolate Mix II Recipe</td>\n",
       "      <td>26</td>\n",
       "      <td>https://images.media-allrecipes.com/userphotos...</td>\n",
       "      <td>Debby</td>\n",
       "      <td>5 m</td>\n",
       "      <td>X</td>\n",
       "      <td>5 m</td>\n",
       "      <td>milk,white sugar,cocoa powder</td>\n",
       "      <td>Sift together milk powder, white sugar and coc...</td>\n",
       "      <td>27105</td>\n",
       "    </tr>\n",
       "    <tr>\n",
       "      <th>12300</th>\n",
       "      <td>Pioneer Potato Candy Recipe</td>\n",
       "      <td>16</td>\n",
       "      <td>https://images.media-allrecipes.com/userphotos...</td>\n",
       "      <td>DEBEHOO</td>\n",
       "      <td>X</td>\n",
       "      <td>X</td>\n",
       "      <td>X</td>\n",
       "      <td>chocolate,potato,salt,vanilla,sugar,coconut</td>\n",
       "      <td>In the top of a double boiler, heat chocolate,...</td>\n",
       "      <td>27158</td>\n",
       "    </tr>\n",
       "  </tbody>\n",
       "</table>\n",
       "<p>387 rows × 10 columns</p>\n",
       "</div>"
      ],
      "text/plain": [
       "                         Recipe Name  ... RecipeID\n",
       "278                              Old  ...     7363\n",
       "373                             Coco  ...     7502\n",
       "521                             Self  ...     7729\n",
       "685                             Coco  ...     7967\n",
       "805                           Gluten  ...     8139\n",
       "...                              ...  ...      ...\n",
       "12149  Cocktail Meatballs II Recipe   ...    26597\n",
       "12158                             No  ...    26632\n",
       "12255             Shrimp Dip Recipe   ...    26955\n",
       "12281   Hot Chocolate Mix II Recipe   ...    27105\n",
       "12300   Pioneer Potato Candy Recipe   ...    27158\n",
       "\n",
       "[387 rows x 10 columns]"
      ]
     },
     "execution_count": 19,
     "metadata": {},
     "output_type": "execute_result"
    }
   ],
   "source": [
    "df[df.duplicated(['Recipe Name'])]"
   ]
  },
  {
   "cell_type": "code",
   "execution_count": 20,
   "id": "0da02bdd",
   "metadata": {
    "colab": {
     "base_uri": "https://localhost:8080/",
     "height": 776
    },
    "id": "0da02bdd",
    "outputId": "6394a16e-f08d-4052-ef24-c69f448e1d9a"
   },
   "outputs": [
    {
     "data": {
      "text/html": [
       "<div>\n",
       "<style scoped>\n",
       "    .dataframe tbody tr th:only-of-type {\n",
       "        vertical-align: middle;\n",
       "    }\n",
       "\n",
       "    .dataframe tbody tr th {\n",
       "        vertical-align: top;\n",
       "    }\n",
       "\n",
       "    .dataframe thead th {\n",
       "        text-align: right;\n",
       "    }\n",
       "</style>\n",
       "<table border=\"1\" class=\"dataframe\">\n",
       "  <thead>\n",
       "    <tr style=\"text-align: right;\">\n",
       "      <th></th>\n",
       "      <th>Recipe Name</th>\n",
       "      <th>Review Count</th>\n",
       "      <th>Recipe Photo</th>\n",
       "      <th>Author</th>\n",
       "      <th>Prepare Time</th>\n",
       "      <th>Cook Time</th>\n",
       "      <th>Total Time</th>\n",
       "      <th>Ingredients</th>\n",
       "      <th>Directions</th>\n",
       "      <th>RecipeID</th>\n",
       "    </tr>\n",
       "  </thead>\n",
       "  <tbody>\n",
       "    <tr>\n",
       "      <th>61</th>\n",
       "      <td>Sourdough Wheat Bread Recipe</td>\n",
       "      <td>16</td>\n",
       "      <td>https://images.media-allrecipes.com/userphotos...</td>\n",
       "      <td>Mari</td>\n",
       "      <td>5 m</td>\n",
       "      <td>3 h</td>\n",
       "      <td>3 h 5 m</td>\n",
       "      <td>sourdough,water,margarine,white sugar,salt,who...</td>\n",
       "      <td>Add ingredients in order suggested by your man...</td>\n",
       "      <td>7085</td>\n",
       "    </tr>\n",
       "    <tr>\n",
       "      <th>1711</th>\n",
       "      <td>Apricot Fruitcake Recipe</td>\n",
       "      <td>9</td>\n",
       "      <td>https://images.media-allrecipes.com/userphotos...</td>\n",
       "      <td>Carol</td>\n",
       "      <td>X</td>\n",
       "      <td>X</td>\n",
       "      <td>X</td>\n",
       "      <td>apricot,water,butter,white sugar,egg,raisin,ch...</td>\n",
       "      <td>Preheat oven to 275 degrees F (135 degrees C)....</td>\n",
       "      <td>9262</td>\n",
       "    </tr>\n",
       "    <tr>\n",
       "      <th>1712</th>\n",
       "      <td>Best Boiled Fruitcake Recipe</td>\n",
       "      <td>50</td>\n",
       "      <td>https://images.media-allrecipes.com/userphotos...</td>\n",
       "      <td>Mark Richards</td>\n",
       "      <td>X</td>\n",
       "      <td>X</td>\n",
       "      <td>X</td>\n",
       "      <td>fruit,cherry,citrus,walnut,butter,spice,baking...</td>\n",
       "      <td>Preheat oven to 325 degrees F (160 degrees C)....</td>\n",
       "      <td>9263</td>\n",
       "    </tr>\n",
       "    <tr>\n",
       "      <th>1713</th>\n",
       "      <td>Carrot Fruit Ring Recipe</td>\n",
       "      <td>8</td>\n",
       "      <td>https://images.media-allrecipes.com/images/795...</td>\n",
       "      <td>Carol</td>\n",
       "      <td>X</td>\n",
       "      <td>X</td>\n",
       "      <td>X</td>\n",
       "      <td>vegetable oil,white sugar,brown sugar,egg,carr...</td>\n",
       "      <td>Preheat oven to 325 degrees F (165 degrees C)....</td>\n",
       "      <td>9264</td>\n",
       "    </tr>\n",
       "    <tr>\n",
       "      <th>1714</th>\n",
       "      <td>Christmas Cherry Cake Recipe</td>\n",
       "      <td>11</td>\n",
       "      <td>https://images.media-allrecipes.com/userphotos...</td>\n",
       "      <td>Carol</td>\n",
       "      <td>X</td>\n",
       "      <td>X</td>\n",
       "      <td>X</td>\n",
       "      <td>white sugar,butter,egg,orange juice,flour,baki...</td>\n",
       "      <td>'Preheat oven to 300 degrees F (150 degrees C)...</td>\n",
       "      <td>9266</td>\n",
       "    </tr>\n",
       "    <tr>\n",
       "      <th>...</th>\n",
       "      <td>...</td>\n",
       "      <td>...</td>\n",
       "      <td>...</td>\n",
       "      <td>...</td>\n",
       "      <td>...</td>\n",
       "      <td>...</td>\n",
       "      <td>...</td>\n",
       "      <td>...</td>\n",
       "      <td>...</td>\n",
       "      <td>...</td>\n",
       "    </tr>\n",
       "    <tr>\n",
       "      <th>9139</th>\n",
       "      <td>Glazed Meatloaf II Recipe</td>\n",
       "      <td>738</td>\n",
       "      <td>https://images.media-allrecipes.com/userphotos...</td>\n",
       "      <td>Delia</td>\n",
       "      <td>10 m</td>\n",
       "      <td>1 h 10 m</td>\n",
       "      <td>1 h 20 m</td>\n",
       "      <td>ketchup,brown sugar,lemon juice,mustard,ground...</td>\n",
       "      <td>'Preheat oven to 350 degrees F (175 degrees C).</td>\n",
       "      <td>20673</td>\n",
       "    </tr>\n",
       "    <tr>\n",
       "      <th>9343</th>\n",
       "      <td>Zucchini Casserole II Recipe</td>\n",
       "      <td>192</td>\n",
       "      <td>https://images.media-allrecipes.com/userphotos...</td>\n",
       "      <td>Bea Gassman</td>\n",
       "      <td>15 m</td>\n",
       "      <td>25 m</td>\n",
       "      <td>40 m</td>\n",
       "      <td>zucchini,mushroom,sour cream,onion,carrot,brea...</td>\n",
       "      <td>Preheat oven to 350 degrees F (175 degrees C)....</td>\n",
       "      <td>21035</td>\n",
       "    </tr>\n",
       "    <tr>\n",
       "      <th>10773</th>\n",
       "      <td>Stuffed Zucchini Recipe</td>\n",
       "      <td>510</td>\n",
       "      <td>https://images.media-allrecipes.com/userphotos...</td>\n",
       "      <td>LTHASKINS</td>\n",
       "      <td>10 m</td>\n",
       "      <td>1 h</td>\n",
       "      <td>1 h 10 m</td>\n",
       "      <td>zucchini,sausage,bread,garlic,spaghetti,parmes...</td>\n",
       "      <td>'Preheat oven to 350 degrees F (175 degrees C).</td>\n",
       "      <td>24162</td>\n",
       "    </tr>\n",
       "    <tr>\n",
       "      <th>10823</th>\n",
       "      <td>Calico Bean Casserole Recipe</td>\n",
       "      <td>264</td>\n",
       "      <td>https://images.media-allrecipes.com/userphotos...</td>\n",
       "      <td>Dee Dee</td>\n",
       "      <td>20 m</td>\n",
       "      <td>30 m</td>\n",
       "      <td>50 m</td>\n",
       "      <td>bean,bake,butter,ketchup,vinegar,mustard,brown...</td>\n",
       "      <td>'Preheat oven to 350 degrees F (175 degrees C).</td>\n",
       "      <td>24224</td>\n",
       "    </tr>\n",
       "    <tr>\n",
       "      <th>12300</th>\n",
       "      <td>Pioneer Potato Candy Recipe</td>\n",
       "      <td>16</td>\n",
       "      <td>https://images.media-allrecipes.com/userphotos...</td>\n",
       "      <td>DEBEHOO</td>\n",
       "      <td>X</td>\n",
       "      <td>X</td>\n",
       "      <td>X</td>\n",
       "      <td>chocolate,potato,salt,vanilla,sugar,coconut</td>\n",
       "      <td>In the top of a double boiler, heat chocolate,...</td>\n",
       "      <td>27158</td>\n",
       "    </tr>\n",
       "  </tbody>\n",
       "</table>\n",
       "<p>161 rows × 10 columns</p>\n",
       "</div>"
      ],
      "text/plain": [
       "                         Recipe Name  ... RecipeID\n",
       "61     Sourdough Wheat Bread Recipe   ...     7085\n",
       "1711       Apricot Fruitcake Recipe   ...     9262\n",
       "1712   Best Boiled Fruitcake Recipe   ...     9263\n",
       "1713       Carrot Fruit Ring Recipe   ...     9264\n",
       "1714   Christmas Cherry Cake Recipe   ...     9266\n",
       "...                              ...  ...      ...\n",
       "9139      Glazed Meatloaf II Recipe   ...    20673\n",
       "9343   Zucchini Casserole II Recipe   ...    21035\n",
       "10773       Stuffed Zucchini Recipe   ...    24162\n",
       "10823  Calico Bean Casserole Recipe   ...    24224\n",
       "12300   Pioneer Potato Candy Recipe   ...    27158\n",
       "\n",
       "[161 rows x 10 columns]"
      ]
     },
     "execution_count": 20,
     "metadata": {},
     "output_type": "execute_result"
    }
   ],
   "source": [
    "df[df.duplicated(['Directions'])]"
   ]
  },
  {
   "cell_type": "code",
   "execution_count": 21,
   "id": "01c1fc55",
   "metadata": {
    "id": "01c1fc55"
   },
   "outputs": [],
   "source": [
    "#Although some recipes seem to have funny names like \"Self\" or \"Coco\", we should still keep them because they \n",
    "#might contain valuable information still.\n",
    "#Same situation with the Directions, looks like some recipes have the same directions, but the ingredient lists seem to\n",
    "#be different, so we shouldn't discard them\n",
    "\n",
    "#Now let's examine the directions and corresponding ingredients"
   ]
  },
  {
   "cell_type": "code",
   "execution_count": 22,
   "id": "ee1f7afa",
   "metadata": {
    "colab": {
     "base_uri": "https://localhost:8080/",
     "height": 86
    },
    "id": "ee1f7afa",
    "outputId": "1fbbd404-ce31-4857-edb8-f12ba22ab211"
   },
   "outputs": [
    {
     "data": {
      "application/vnd.google.colaboratory.intrinsic+json": {
       "type": "string"
      },
      "text/plain": [
       "\"'Preheat oven to 350 degrees F (175 degrees C). Grease bottoms of two 9-inch loaf pans.**Mix together flour, salt, baking powder, poppy seeds, butter flavoring, oil, eggs, milk, sugar, vanilla, and almond flavoring. Pour into prepared pans.**Bake at 350 degrees F (175 degrees C) for one hour. Cool 5 minutes. Poke holes in top of loaves and pour glaze over.**To make glaze: Mix orange juice, 1/2 teaspoon butter flavoring, 1/2 teaspoon almond flavoring, and 1 teaspoon vanilla. Add enough confectioners'' sugar to make glaze.**'\""
      ]
     },
     "execution_count": 22,
     "metadata": {},
     "output_type": "execute_result"
    }
   ],
   "source": [
    "df.loc[df.index[1], 'Directions']"
   ]
  },
  {
   "cell_type": "code",
   "execution_count": 23,
   "id": "ff45edec",
   "metadata": {
    "colab": {
     "base_uri": "https://localhost:8080/",
     "height": 35
    },
    "id": "ff45edec",
    "outputId": "74cfaacf-c059-42a5-ebae-cf294253c9fa"
   },
   "outputs": [
    {
     "data": {
      "application/vnd.google.colaboratory.intrinsic+json": {
       "type": "string"
      },
      "text/plain": [
       "'flour,salt,baking powder,poppy,butter,vegetable oil,egg,milk,white sugar,vanilla,almond,orange juice,butter,almond,vanilla,sugar'"
      ]
     },
     "execution_count": 23,
     "metadata": {},
     "output_type": "execute_result"
    }
   ],
   "source": [
    "df.loc[df.index[1], 'Ingredients']"
   ]
  },
  {
   "cell_type": "code",
   "execution_count": 24,
   "id": "636f6020",
   "metadata": {
    "colab": {
     "base_uri": "https://localhost:8080/",
     "height": 661
    },
    "id": "636f6020",
    "outputId": "10c48069-73d6-441f-c873-a03678b67577"
   },
   "outputs": [
    {
     "data": {
      "text/plain": [
       "<matplotlib.axes._subplots.AxesSubplot at 0x7f9254a79710>"
      ]
     },
     "execution_count": 24,
     "metadata": {},
     "output_type": "execute_result"
    },
    {
     "name": "stderr",
     "output_type": "stream",
     "text": [
      "/usr/local/lib/python3.7/dist-packages/matplotlib/backends/backend_agg.py:214: RuntimeWarning: Glyph 153 missing from current font.\n",
      "  font.set_text(s, 0.0, flags=flags)\n",
      "/usr/local/lib/python3.7/dist-packages/matplotlib/backends/backend_agg.py:183: RuntimeWarning: Glyph 153 missing from current font.\n",
      "  font.set_text(s, 0, flags=flags)\n"
     ]
    },
    {
     "data": {
      "image/png": "[encoded data removed]",
      "text/plain": [
       "<Figure size 432x288 with 1 Axes>"
      ]
     },
     "metadata": {
      "needs_background": "light"
     },
     "output_type": "display_data"
    }
   ],
   "source": [
    "#let's get some information about the ingredients, so let's plot their counts\n",
    "ingredients = []\n",
    "\n",
    "for i in df[\"Ingredients\"]:\n",
    "    for j in i.split(\",\"):\n",
    "        ingredients.append(j)\n",
    "\n",
    "count = Counter(ingredients)\n",
    "df_plot = pd.DataFrame.from_dict(count, orient='index')\n",
    "df_plot.plot(kind='bar')"
   ]
  },
  {
   "cell_type": "code",
   "execution_count": 25,
   "id": "df4474d7",
   "metadata": {
    "colab": {
     "base_uri": "https://localhost:8080/",
     "height": 419
    },
    "id": "df4474d7",
    "outputId": "6ff4b6b1-7f3f-4e29-8c75-45c9c26798e6"
   },
   "outputs": [
    {
     "data": {
      "text/html": [
       "<div>\n",
       "<style scoped>\n",
       "    .dataframe tbody tr th:only-of-type {\n",
       "        vertical-align: middle;\n",
       "    }\n",
       "\n",
       "    .dataframe tbody tr th {\n",
       "        vertical-align: top;\n",
       "    }\n",
       "\n",
       "    .dataframe thead th {\n",
       "        text-align: right;\n",
       "    }\n",
       "</style>\n",
       "<table border=\"1\" class=\"dataframe\">\n",
       "  <thead>\n",
       "    <tr style=\"text-align: right;\">\n",
       "      <th></th>\n",
       "      <th>0</th>\n",
       "    </tr>\n",
       "  </thead>\n",
       "  <tbody>\n",
       "    <tr>\n",
       "      <th>white sugar</th>\n",
       "      <td>4982</td>\n",
       "    </tr>\n",
       "    <tr>\n",
       "      <th>egg</th>\n",
       "      <td>4876</td>\n",
       "    </tr>\n",
       "    <tr>\n",
       "      <th>salt</th>\n",
       "      <td>4513</td>\n",
       "    </tr>\n",
       "    <tr>\n",
       "      <th>butter</th>\n",
       "      <td>4454</td>\n",
       "    </tr>\n",
       "    <tr>\n",
       "      <th>flour</th>\n",
       "      <td>4156</td>\n",
       "    </tr>\n",
       "    <tr>\n",
       "      <th>...</th>\n",
       "      <td>...</td>\n",
       "    </tr>\n",
       "    <tr>\n",
       "      <th>marsala</th>\n",
       "      <td>14</td>\n",
       "    </tr>\n",
       "    <tr>\n",
       "      <th>corn oil</th>\n",
       "      <td>14</td>\n",
       "    </tr>\n",
       "    <tr>\n",
       "      <th>cantaloupe</th>\n",
       "      <td>13</td>\n",
       "    </tr>\n",
       "    <tr>\n",
       "      <th>goat cheese</th>\n",
       "      <td>13</td>\n",
       "    </tr>\n",
       "    <tr>\n",
       "      <th>1 (1 ounce) package dry Ranch-style dressing mix</th>\n",
       "      <td>13</td>\n",
       "    </tr>\n",
       "  </tbody>\n",
       "</table>\n",
       "<p>300 rows × 1 columns</p>\n",
       "</div>"
      ],
      "text/plain": [
       "                                                     0\n",
       "white sugar                                       4982\n",
       "egg                                               4876\n",
       "salt                                              4513\n",
       "butter                                            4454\n",
       "flour                                             4156\n",
       "...                                                ...\n",
       "marsala                                             14\n",
       "corn oil                                            14\n",
       "cantaloupe                                          13\n",
       "goat cheese                                         13\n",
       "1 (1 ounce) package dry Ranch-style dressing mix    13\n",
       "\n",
       "[300 rows x 1 columns]"
      ]
     },
     "execution_count": 25,
     "metadata": {},
     "output_type": "execute_result"
    }
   ],
   "source": [
    "#let's get the most frequent ingredients\n",
    "df_plot=df_plot.sort_values(df_plot.columns[0],ascending=False)\n",
    "df_plot.head(300)"
   ]
  },
  {
   "cell_type": "markdown",
   "id": "f3ae5a19",
   "metadata": {
    "id": "f3ae5a19"
   },
   "source": [
    "By looking at the most common ingredients we can see that the recipes seem to be from cakes/baked items mostly. At some point we can see that the ingredients tend so be very very specific (like the last one here)."
   ]
  },
  {
   "cell_type": "code",
   "execution_count": 26,
   "id": "8a1e008d",
   "metadata": {
    "colab": {
     "base_uri": "https://localhost:8080/",
     "height": 949
    },
    "id": "8a1e008d",
    "outputId": "51c74b29-a806-4160-d88b-340e6f44a160"
   },
   "outputs": [
    {
     "data": {
      "text/plain": [
       "<matplotlib.axes._subplots.AxesSubplot at 0x7f92535c8850>"
      ]
     },
     "execution_count": 26,
     "metadata": {},
     "output_type": "execute_result"
    },
    {
     "data": {
      "image/png": "[encoded data removed]",
      "text/plain": [
       "<Figure size 1080x1080 with 1 Axes>"
      ]
     },
     "metadata": {
      "needs_background": "light"
     },
     "output_type": "display_data"
    }
   ],
   "source": [
    "df_plot = pd.DataFrame.from_dict(count, orient='index')\n",
    "df_plot.head(100).plot(kind='bar',figsize=(15,15))"
   ]
  },
  {
   "cell_type": "markdown",
   "id": "14d5555b",
   "metadata": {
    "id": "14d5555b"
   },
   "source": [
    "### Training\n",
    "\n",
    "\n",
    "The main idea would be to generate labels for each word in a recipe, which say if it is an ingredient or not. Then we will use a sequence-to-sequence neural network to tag every word. Then we pseudo-label the training set and update the model with the new labels."
   ]
  },
  {
   "cell_type": "code",
   "execution_count": 27,
   "id": "ae70ba06",
   "metadata": {
    "colab": {
     "base_uri": "https://localhost:8080/"
    },
    "id": "ae70ba06",
    "outputId": "74db8a59-d937-44f2-c9e4-db468de2241f"
   },
   "outputs": [
    {
     "data": {
      "text/plain": [
       "(2469, 10)"
      ]
     },
     "execution_count": 27,
     "metadata": {},
     "output_type": "execute_result"
    }
   ],
   "source": [
    "#we start by splitting the data into training and testing, ratio 80/20\n",
    "test_df = df[9876:]\n",
    "#test_df = df[1000:1200]\n",
    "test_df.shape"
   ]
  },
  {
   "cell_type": "code",
   "execution_count": 28,
   "id": "4d195ba0",
   "metadata": {
    "colab": {
     "base_uri": "https://localhost:8080/"
    },
    "id": "4d195ba0",
    "outputId": "6eb91a71-2ded-46fb-f69b-65567e97dd91"
   },
   "outputs": [
    {
     "data": {
      "text/plain": [
       "(9876, 10)"
      ]
     },
     "execution_count": 28,
     "metadata": {},
     "output_type": "execute_result"
    }
   ],
   "source": [
    "train_df=df[0:9876]\n",
    "#train_df=df[0:1000]\n",
    "train_df.shape"
   ]
  },
  {
   "cell_type": "code",
   "execution_count": 29,
   "id": "0f78b33f",
   "metadata": {
    "id": "0f78b33f"
   },
   "outputs": [],
   "source": [
    "#next we will use the library spacy to tokenize the text\n",
    "# !pip install spacy\n",
    "# !python -m spacy download en_core_web_sm"
   ]
  },
  {
   "cell_type": "code",
   "execution_count": 30,
   "id": "qtG-IHTZQxJK",
   "metadata": {
    "colab": {
     "base_uri": "https://localhost:8080/",
     "height": 137
    },
    "id": "qtG-IHTZQxJK",
    "outputId": "3b442efa-61b5-49f3-e962-f5d6f632799c"
   },
   "outputs": [
    {
     "name": "stdout",
     "output_type": "stream",
     "text": [
      "[nltk_data] Downloading package stopwords to /root/nltk_data...\n",
      "[nltk_data]   Package stopwords is already up-to-date!\n",
      "[nltk_data] Downloading package wordnet to /root/nltk_data...\n",
      "[nltk_data]   Package wordnet is already up-to-date!\n"
     ]
    },
    {
     "data": {
      "application/vnd.google.colaboratory.intrinsic+json": {
       "type": "string"
      },
      "text/plain": [
       "'preheat oven degrees degrees beat egg whites electric mixer soft peaks form gradually add sugar beat stiff peaks form fold pecans chocolate chips drop teaspoonfuls onto prepared cookie sheet put cookies preheated oven turn oven keeping door shut open door next morning cookies done best bedtime waiting easier'"
      ]
     },
     "execution_count": 30,
     "metadata": {},
     "output_type": "execute_result"
    }
   ],
   "source": [
    "#next we will create a preprocessing function for the Directions column, to remove stopwords, special characters, numbers etc.\n",
    "import nltk\n",
    "nltk.download('stopwords')\n",
    "nltk.download('wordnet')\n",
    "from nltk.tokenize import RegexpTokenizer\n",
    "from nltk.stem import WordNetLemmatizer,PorterStemmer\n",
    "from nltk.corpus import stopwords\n",
    "import re\n",
    "lemmatizer = WordNetLemmatizer()\n",
    "stemmer = PorterStemmer() \n",
    "\n",
    "def preprocess(sentence):\n",
    "    sentence=str(sentence)\n",
    "    sentence = sentence.lower()\n",
    "    sentence=sentence.replace('{html}',\"\") \n",
    "    cleanr = re.compile('<.*?>')\n",
    "    cleantext = re.sub(cleanr, '', sentence)\n",
    "    rem_url=re.sub(r'http\\S+', '',cleantext)\n",
    "    rem_num = re.sub('[0-9]+', '', rem_url)\n",
    "    tokenizer = RegexpTokenizer(r'\\w+')\n",
    "    tokens = tokenizer.tokenize(rem_num)  \n",
    "    filtered_words = [w for w in tokens if len(w) > 2 if not w in stopwords.words('english')]\n",
    "    stem_words=[stemmer.stem(w) for w in filtered_words]\n",
    "    lemma_words=[lemmatizer.lemmatize(w) for w in stem_words]\n",
    "    return \" \".join(filtered_words)\n",
    "\n",
    "i=3431\n",
    "preprocess(df.loc[df.index[i], 'Directions'])"
   ]
  },
  {
   "cell_type": "code",
   "execution_count": 31,
   "id": "58c2fd02",
   "metadata": {
    "id": "58c2fd02"
   },
   "outputs": [],
   "source": [
    "#run the tokenizer on all instructions\n",
    "import spacy\n",
    "nlp = spacy.load('en_core_web_sm', disable=['parser', 'tagger', 'ner'])"
   ]
  },
  {
   "cell_type": "code",
   "execution_count": 32,
   "id": "5869f6b3",
   "metadata": {
    "id": "5869f6b3"
   },
   "outputs": [],
   "source": [
    "#we build a vocabulary with the known tokens\n",
    "tokenized = [nlp(t) for t in train_df[\"Directions\"].values]\n"
   ]
  },
  {
   "cell_type": "code",
   "execution_count": 33,
   "id": "3f28a058",
   "metadata": {
    "colab": {
     "base_uri": "https://localhost:8080/"
    },
    "id": "3f28a058",
    "outputId": "f239dc12-5ee8-43cf-d5b2-1fa4681b6a03"
   },
   "outputs": [
    {
     "name": "stdout",
     "output_type": "stream",
     "text": [
      "Number of unique tokens: 13886\n"
     ]
    }
   ],
   "source": [
    "#Now let's get the number of unique tokens\n",
    "vocab = {\"<UNK>\": 1, \"<PAD>\": 0}\n",
    "for txt in tokenized:\n",
    "    for token in txt:\n",
    "        if token.text not in vocab.keys():\n",
    "            vocab[token.text] = len(vocab)\n",
    "print(\"Number of unique tokens: {}\".format(len(vocab)))\n"
   ]
  },
  {
   "cell_type": "code",
   "execution_count": 34,
   "id": "511dd547",
   "metadata": {
    "colab": {
     "base_uri": "https://localhost:8080/"
    },
    "id": "511dd547",
    "outputId": "331cf78f-5c50-41c6-b4e3-b76a8d948a05"
   },
   "outputs": [
    {
     "name": "stderr",
     "output_type": "stream",
     "text": [
      "/usr/local/lib/python3.7/dist-packages/pandas/core/indexing.py:1763: SettingWithCopyWarning: \n",
      "A value is trying to be set on a copy of a slice from a DataFrame.\n",
      "Try using .loc[row_indexer,col_indexer] = value instead\n",
      "\n",
      "See the caveats in the documentation: https://pandas.pydata.org/pandas-docs/stable/user_guide/indexing.html#returning-a-view-versus-a-copy\n",
      "  isetter(loc, value)\n"
     ]
    }
   ],
   "source": [
    "#apply the preprocessing function on each row from df[\"Directions\"]\n",
    "for i in range(0,len(train_df)):\n",
    "  train_df.loc[train_df.index[i], 'Directions']=preprocess(train_df.loc[df.index[i], 'Directions'])\n",
    "\n"
   ]
  },
  {
   "cell_type": "code",
   "execution_count": 35,
   "id": "oWxjwhiMU-UT",
   "metadata": {
    "colab": {
     "base_uri": "https://localhost:8080/"
    },
    "id": "oWxjwhiMU-UT",
    "outputId": "6666789f-fd14-4e1c-9c53-e5c593b63afc"
   },
   "outputs": [
    {
     "name": "stderr",
     "output_type": "stream",
     "text": [
      "/usr/local/lib/python3.7/dist-packages/ipykernel_launcher.py:2: SettingWithCopyWarning: \n",
      "A value is trying to be set on a copy of a slice from a DataFrame.\n",
      "Try using .loc[row_indexer,col_indexer] = value instead\n",
      "\n",
      "See the caveats in the documentation: https://pandas.pydata.org/pandas-docs/stable/user_guide/indexing.html#returning-a-view-versus-a-copy\n",
      "  \n"
     ]
    }
   ],
   "source": [
    "#split the ingredients by ',' for each row\n",
    "train_df[\"Processed_ingredients\"]=\"\"\n",
    "for i in range(0,len(train_df)):\n",
    "  train_df.at[train_df.index[i], 'Processed_ingredients']=train_df.at[train_df.index[i], 'Ingredients'].split(\",\")\n",
    "\n",
    "# #now, using the ingredients list, we will create the labels\n",
    "ingredients = train_df[\"Processed_ingredients\"]"
   ]
  },
  {
   "cell_type": "code",
   "execution_count": 36,
   "id": "IP9AqBbdTnmg",
   "metadata": {
    "colab": {
     "base_uri": "https://localhost:8080/"
    },
    "id": "IP9AqBbdTnmg",
    "outputId": "83585283-61bf-4a78-ab92-9e76f506e64d"
   },
   "outputs": [
    {
     "name": "stdout",
     "output_type": "stream",
     "text": [
      "['yeast', 'water', 'white sugar', 'salt', 'egg', 'butter', 'flour', 'butter']\n",
      "['flour', 'salt', 'baking powder', 'poppy', 'butter', 'vegetable oil', 'egg', 'milk', 'white sugar', 'vanilla', 'almond', 'orange juice', 'butter', 'almond', 'vanilla', 'sugar']\n",
      "['flour', 'egg', 'white sugar', 'vegetable oil', 'applesauce', 'raisin', 'cinnamon', 'baking soda', 'baking powder', 'sour cream']\n",
      "['flour', 'baking powder', 'baking soda', 'salt', 'cinnamon', 'nutmeg', 'brown sugar', 'oat', 'apple', 'walnut', 'raisin', 'egg', 'milk', 'vegetable oil']\n",
      "['oat', 'buttermilk', 'vegetable oil', 'egg', 'brown sugar', 'flour', 'baking powder', 'baking soda', 'salt']\n",
      "['shortening', 'white sugar', 'salt', 'milk', 'egg', 'lemon', 'yeast', 'flour', 'fruit']\n",
      "['shortening', 'water', 'brown sugar', 'yeast', 'water', 'white sugar', 'salt', 'bread', 'whole wheat']\n",
      "['water', 'cottage cheese', 'vegetable oil', 'egg', 'flour', 'white sugar', 'baking soda', 'salt', 'yeast']\n",
      "['margarine', 'white sugar', 'egg', 'banana', 'coffee', 'water', 'vanilla', 'flour', 'salt', 'baking powder', 'baking soda', 'chocolate']\n",
      "['cornmeal', 'milk', 'egg', 'bell pepper', 'onion', 'garlic', 'salt', 'baking soda', 'white sugar', 'corn', 'pimento', 'vegetable oil', 'pepper']\n"
     ]
    }
   ],
   "source": [
    "for i in range(0,10):\n",
    "  print(train_df.loc[train_df.index[i], 'Processed_ingredients'])"
   ]
  },
  {
   "cell_type": "code",
   "execution_count": 37,
   "id": "2eefc71b",
   "metadata": {
    "id": "2eefc71b"
   },
   "outputs": [],
   "source": [
    "#preprocessing functions to clean ingredients lists from stopwords, numbers, etc.\n",
    "def _filter(token):\n",
    "    if len(token) < 2:\n",
    "        return False\n",
    "    if token.is_stop:\n",
    "        return False\n",
    "    if token.text[0].islower():\n",
    "        return False\n",
    "    if token.is_digit:\n",
    "        return False\n",
    "    if token.like_num:\n",
    "        return False\n",
    "    return True\n",
    "\n",
    "def _clean(text):\n",
    "    text = text.replace(\"(\", \"\")\n",
    "    text = text.split(\"/\")[0]\n",
    "    return text\n",
    "\n",
    "#function to generate the labels for our ingredients\n",
    "def get_labels(ingredients, tokenized_instructions):\n",
    "    labels = []\n",
    "    for ing, ti in zip(ingredients, tokenized_instructions):\n",
    "        l_i = []\n",
    "        ci = [_clean(t.text) for i in ing for t in nlp(i) if _filter(t) and len(_clean(t.text)) >= 2]\n",
    "        label = []\n",
    "        for token in ti:\n",
    "            l_i.append(any((c == token.text or c == token.text[:-1] or c[:-1] == token.text) for c in ci))\n",
    "        labels.append(l_i)\n",
    "    return labels\n",
    "\n",
    "def get_labels2(ingredients, tokenized_instructions):\n",
    "    labels = []\n",
    "    for ing, ti in zip(ingredients, tokenized_instructions):\n",
    "      l_i = []\n",
    "      for i in ti:\n",
    "        #print(i,ing,type(ti))\n",
    "        # cond=False\n",
    "        # for j in ing:\n",
    "        #   if(i==j.text):\n",
    "        #     cond=True\n",
    "        if (str(i) in ing):\n",
    "          l_i.append(True)\n",
    "        else:\n",
    "          l_i.append(False)\n",
    "      labels.append(l_i)\n",
    "    return labels\n",
    "\n",
    "labels = get_labels2(ingredients, tokenized)"
   ]
  },
  {
   "cell_type": "code",
   "execution_count": 38,
   "id": "5Df06de8oGPt",
   "metadata": {
    "colab": {
     "base_uri": "https://localhost:8080/"
    },
    "id": "5Df06de8oGPt",
    "outputId": "34ca17b7-3ca4-4525-93f3-feb3fd950654"
   },
   "outputs": [
    {
     "data": {
      "text/plain": [
       "{'almond', 'butter', 'flour', 'milk', 'poppy', 'salt', 'sugar', 'vanilla'}"
      ]
     },
     "execution_count": 38,
     "metadata": {},
     "output_type": "execute_result"
    }
   ],
   "source": [
    "#check our function\n",
    "set([t.text for t, l in zip(tokenized[1], labels[1]) if l])"
   ]
  },
  {
   "cell_type": "markdown",
   "id": "fbf87e19",
   "metadata": {
    "id": "fbf87e19"
   },
   "source": [
    "Next we will define our LSTM network. First we need to look at the length of our recipes, to determine the padding length for the inputs of our network."
   ]
  },
  {
   "cell_type": "code",
   "execution_count": 39,
   "id": "07468f7b",
   "metadata": {
    "colab": {
     "base_uri": "https://localhost:8080/",
     "height": 265
    },
    "id": "07468f7b",
    "outputId": "656d31f3-0801-4fd9-fefc-dddd3552dec1"
   },
   "outputs": [
    {
     "data": {
      "image/png": "[encoded data removed]",
      "text/plain": [
       "<Figure size 432x288 with 1 Axes>"
      ]
     },
     "metadata": {
      "needs_background": "light"
     },
     "output_type": "display_data"
    }
   ],
   "source": [
    "import matplotlib.pyplot as plt\n",
    "%matplotlib inline\n",
    "\n",
    "plt.hist([len([t for t in tokens]) for tokens in tokenized], bins=20);"
   ]
  },
  {
   "cell_type": "code",
   "execution_count": 40,
   "id": "bd98b9c5",
   "metadata": {
    "id": "bd98b9c5"
   },
   "outputs": [],
   "source": [
    "#now we pick a maximum number of tokens, let's say 400\n",
    "MAX_LEN = 400"
   ]
  },
  {
   "cell_type": "code",
   "execution_count": 41,
   "id": "f7a78d59",
   "metadata": {
    "id": "f7a78d59"
   },
   "outputs": [],
   "source": [
    "from tensorflow.keras.preprocessing.sequence import pad_sequences\n",
    "\n",
    "# now let's pad the sequences and map the words to integers\n",
    "def prepare_sequences(texts, max_len, vocab={\"<UNK>\": 1, \"<PAD>\": 0}):\n",
    "    X = [[vocab.get(w.text, vocab[\"<UNK>\"]) for w in s] for s in texts]\n",
    "    return pad_sequences(maxlen=max_len, sequences=X, padding=\"post\", value=vocab[\"<PAD>\"])\n",
    "\n",
    "X_seq = prepare_sequences(tokenized, max_len=MAX_LEN, vocab=vocab)\n"
   ]
  },
  {
   "cell_type": "code",
   "execution_count": 42,
   "id": "7ff74c0a",
   "metadata": {
    "colab": {
     "base_uri": "https://localhost:8080/"
    },
    "id": "7ff74c0a",
    "outputId": "c51af809-ac93-4d10-857c-7dc5acb1f53f"
   },
   "outputs": [
    {
     "data": {
      "text/plain": [
       "array([ 63,  58, 137, 166,   4,  58, 226, 256, 248,   4,  58, 257, 258,\n",
       "       259,  58, 260,  17, 137, 521, 570, 601, 520,   8,  12,  29, 505,\n",
       "       647,  58, 103,  54, 253, 254, 255,  17,  94,  94,   0,   0,   0,\n",
       "         0,   0,   0,   0,   0,   0,   0,   0,   0,   0,   0,   0,   0,\n",
       "         0,   0,   0,   0,   0,   0,   0,   0,   0,   0,   0,   0,   0,\n",
       "         0,   0,   0,   0,   0,   0,   0,   0,   0,   0,   0,   0,   0,\n",
       "         0,   0,   0,   0,   0,   0,   0,   0,   0,   0,   0,   0,   0,\n",
       "         0,   0,   0,   0,   0,   0,   0,   0,   0,   0,   0,   0,   0,\n",
       "         0,   0,   0,   0,   0,   0,   0,   0,   0,   0,   0,   0,   0,\n",
       "         0,   0,   0,   0,   0,   0,   0,   0,   0,   0,   0,   0,   0,\n",
       "         0,   0,   0,   0,   0,   0,   0,   0,   0,   0,   0,   0,   0,\n",
       "         0,   0,   0,   0,   0,   0,   0,   0,   0,   0,   0,   0,   0,\n",
       "         0,   0,   0,   0,   0,   0,   0,   0,   0,   0,   0,   0,   0,\n",
       "         0,   0,   0,   0,   0,   0,   0,   0,   0,   0,   0,   0,   0,\n",
       "         0,   0,   0,   0,   0,   0,   0,   0,   0,   0,   0,   0,   0,\n",
       "         0,   0,   0,   0,   0,   0,   0,   0,   0,   0,   0,   0,   0,\n",
       "         0,   0,   0,   0,   0,   0,   0,   0,   0,   0,   0,   0,   0,\n",
       "         0,   0,   0,   0,   0,   0,   0,   0,   0,   0,   0,   0,   0,\n",
       "         0,   0,   0,   0,   0,   0,   0,   0,   0,   0,   0,   0,   0,\n",
       "         0,   0,   0,   0,   0,   0,   0,   0,   0,   0,   0,   0,   0,\n",
       "         0,   0,   0,   0,   0,   0,   0,   0,   0,   0,   0,   0,   0,\n",
       "         0,   0,   0,   0,   0,   0,   0,   0,   0,   0,   0,   0,   0,\n",
       "         0,   0,   0,   0,   0,   0,   0,   0,   0,   0,   0,   0,   0,\n",
       "         0,   0,   0,   0,   0,   0,   0,   0,   0,   0,   0,   0,   0,\n",
       "         0,   0,   0,   0,   0,   0,   0,   0,   0,   0,   0,   0,   0,\n",
       "         0,   0,   0,   0,   0,   0,   0,   0,   0,   0,   0,   0,   0,\n",
       "         0,   0,   0,   0,   0,   0,   0,   0,   0,   0,   0,   0,   0,\n",
       "         0,   0,   0,   0,   0,   0,   0,   0,   0,   0,   0,   0,   0,\n",
       "         0,   0,   0,   0,   0,   0,   0,   0,   0,   0,   0,   0,   0,\n",
       "         0,   0,   0,   0,   0,   0,   0,   0,   0,   0,   0,   0,   0,\n",
       "         0,   0,   0,   0,   0,   0,   0,   0,   0,   0], dtype=int32)"
      ]
     },
     "execution_count": 42,
     "metadata": {},
     "output_type": "execute_result"
    }
   ],
   "source": [
    "#let's see how a random sequence looks like\n",
    "X_seq[39]"
   ]
  },
  {
   "cell_type": "code",
   "execution_count": 43,
   "id": "1877ea67",
   "metadata": {
    "id": "1877ea67"
   },
   "outputs": [],
   "source": [
    "import numpy as np\n",
    "\n",
    "#let's also set up the y labels\n",
    "y_seq = []\n",
    "for l in labels:\n",
    "    y_i = []\n",
    "    for i in range(MAX_LEN):\n",
    "        try:\n",
    "            y_i.append(float(l[i]))\n",
    "        except:\n",
    "            y_i.append(0.0)\n",
    "    y_seq.append(np.array(y_i))\n",
    "y_seq = np.array(y_seq)\n",
    "y_seq = y_seq.reshape(y_seq.shape[0], y_seq.shape[1], 1)"
   ]
  },
  {
   "cell_type": "code",
   "execution_count": 44,
   "id": "c96c4d0f",
   "metadata": {
    "id": "c96c4d0f"
   },
   "outputs": [],
   "source": [
    "import tensorflow as tf\n",
    "from tensorflow.keras import layers\n",
    "\n",
    "\n",
    "#now we can define the network, which is a simple 2-layer LSTM-based sequence tagger\n",
    "model = tf.keras.Sequential()\n",
    "model.add(layers.Embedding(input_dim=len(vocab), mask_zero=True, output_dim=50))\n",
    "model.add(layers.SpatialDropout1D(0.2))\n",
    "model.add(layers.Bidirectional(layers.LSTM(units=64, return_sequences=True)))\n",
    "model.add(layers.SpatialDropout1D(0.2))\n",
    "model.add(layers.Bidirectional(layers.LSTM(units=64, return_sequences=True)))\n",
    "model.add(layers.TimeDistributed(layers.Dense(1, activation='sigmoid')))\n"
   ]
  },
  {
   "cell_type": "code",
   "execution_count": 45,
   "id": "7f4de518",
   "metadata": {
    "id": "7f4de518"
   },
   "outputs": [],
   "source": [
    "#add an optimizer\n",
    "model.compile(optimizer=tf.optimizers.Adam(0.001),\n",
    "              loss='binary_crossentropy',\n",
    "              metrics=['accuracy'])\n"
   ]
  },
  {
   "cell_type": "code",
   "execution_count": 46,
   "id": "D0Jp9YTfJ37H",
   "metadata": {
    "colab": {
     "base_uri": "https://localhost:8080/"
    },
    "id": "D0Jp9YTfJ37H",
    "outputId": "bf188e8c-6455-4c29-e596-746f95ed0e64"
   },
   "outputs": [
    {
     "name": "stdout",
     "output_type": "stream",
     "text": [
      "Model: \"sequential\"\n",
      "_________________________________________________________________\n",
      "Layer (type)                 Output Shape              Param #   \n",
      "=================================================================\n",
      "embedding (Embedding)        (None, None, 50)          694300    \n",
      "_________________________________________________________________\n",
      "spatial_dropout1d (SpatialDr (None, None, 50)          0         \n",
      "_________________________________________________________________\n",
      "bidirectional (Bidirectional (None, None, 128)         58880     \n",
      "_________________________________________________________________\n",
      "spatial_dropout1d_1 (Spatial (None, None, 128)         0         \n",
      "_________________________________________________________________\n",
      "bidirectional_1 (Bidirection (None, None, 128)         98816     \n",
      "_________________________________________________________________\n",
      "time_distributed (TimeDistri (None, None, 1)           129       \n",
      "=================================================================\n",
      "Total params: 852,125\n",
      "Trainable params: 852,125\n",
      "Non-trainable params: 0\n",
      "_________________________________________________________________\n"
     ]
    }
   ],
   "source": [
    "#let's see a summary for our model\n",
    "model.summary()\n",
    "\n"
   ]
  },
  {
   "cell_type": "code",
   "execution_count": 47,
   "id": "Bd9b74PBJ-Ah",
   "metadata": {
    "colab": {
     "base_uri": "https://localhost:8080/"
    },
    "id": "Bd9b74PBJ-Ah",
    "outputId": "ec54d293-3e52-4eb2-ff56-85223165ec11"
   },
   "outputs": [
    {
     "name": "stdout",
     "output_type": "stream",
     "text": [
      "Epoch 1/10\n",
      "35/35 [==============================] - 42s 545ms/step - loss: 0.0866 - accuracy: 0.9364 - val_loss: 0.0501 - val_accuracy: 0.9380\n",
      "Epoch 2/10\n",
      "35/35 [==============================] - 13s 378ms/step - loss: 0.0554 - accuracy: 0.9432 - val_loss: 0.0441 - val_accuracy: 0.9379\n",
      "Epoch 3/10\n",
      "35/35 [==============================] - 12s 331ms/step - loss: 0.0456 - accuracy: 0.9427 - val_loss: 0.0341 - val_accuracy: 0.9381\n",
      "Epoch 4/10\n",
      "35/35 [==============================] - 12s 331ms/step - loss: 0.0300 - accuracy: 0.9527 - val_loss: 0.0139 - val_accuracy: 0.9794\n",
      "Epoch 5/10\n",
      "35/35 [==============================] - 12s 330ms/step - loss: 0.0112 - accuracy: 0.9845 - val_loss: 0.0083 - val_accuracy: 0.9832\n",
      "Epoch 6/10\n",
      "35/35 [==============================] - 12s 330ms/step - loss: 0.0092 - accuracy: 0.9865 - val_loss: 0.0077 - val_accuracy: 0.9850\n",
      "Epoch 7/10\n",
      "35/35 [==============================] - 12s 332ms/step - loss: 0.0086 - accuracy: 0.9875 - val_loss: 0.0073 - val_accuracy: 0.9857\n",
      "Epoch 8/10\n",
      "35/35 [==============================] - 12s 332ms/step - loss: 0.0081 - accuracy: 0.9883 - val_loss: 0.0071 - val_accuracy: 0.9860\n",
      "Epoch 9/10\n",
      "35/35 [==============================] - 12s 330ms/step - loss: 0.0079 - accuracy: 0.9887 - val_loss: 0.0069 - val_accuracy: 0.9869\n",
      "Epoch 10/10\n",
      "35/35 [==============================] - 12s 333ms/step - loss: 0.0077 - accuracy: 0.9890 - val_loss: 0.0069 - val_accuracy: 0.9869\n"
     ]
    }
   ],
   "source": [
    "#let's fit the model\n",
    "history = model.fit(X_seq, y_seq, epochs=10, batch_size=256, validation_split=0.1)\n"
   ]
  },
  {
   "cell_type": "code",
   "execution_count": 48,
   "id": "beLoDFmDKC9k",
   "metadata": {
    "colab": {
     "base_uri": "https://localhost:8080/",
     "height": 281
    },
    "id": "beLoDFmDKC9k",
    "outputId": "29f25111-dca7-4715-b9c3-02cae54a3af2"
   },
   "outputs": [
    {
     "data": {
      "image/png": "[encoded data removed]",
      "text/plain": [
       "<Figure size 432x288 with 1 Axes>"
      ]
     },
     "metadata": {
      "needs_background": "light"
     },
     "output_type": "display_data"
    }
   ],
   "source": [
    "#plot loss\n",
    "plt.plot(history.history[\"loss\"], label=\"trn_loss\");\n",
    "plt.plot(history.history[\"val_loss\"], label=\"val_loss\");\n",
    "plt.legend();\n",
    "plt.title(\"Loss\");\n"
   ]
  },
  {
   "cell_type": "code",
   "execution_count": 49,
   "id": "Ix-b9ZIGKNvf",
   "metadata": {
    "colab": {
     "base_uri": "https://localhost:8080/",
     "height": 281
    },
    "id": "Ix-b9ZIGKNvf",
    "outputId": "f79efb11-7ac9-4d4a-c91a-0d118312a5d8"
   },
   "outputs": [
    {
     "data": {
      "image/png": "[encoded data removed]",
      "text/plain": [
       "<Figure size 432x288 with 1 Axes>"
      ]
     },
     "metadata": {
      "needs_background": "light"
     },
     "output_type": "display_data"
    }
   ],
   "source": [
    "#plot accuracy\n",
    "plt.plot(history.history[\"accuracy\"], label=\"trn_acc\");\n",
    "plt.plot(history.history[\"val_accuracy\"], label=\"val_acc\");\n",
    "plt.legend();\n",
    "plt.title(\"Accuracy\");"
   ]
  },
  {
   "cell_type": "code",
   "execution_count": 50,
   "id": "gPfRdsyMKUWp",
   "metadata": {
    "colab": {
     "base_uri": "https://localhost:8080/"
    },
    "id": "gPfRdsyMKUWp",
    "outputId": "c30f48d6-9e18-486d-addb-5319c8dbb176"
   },
   "outputs": [
    {
     "name": "stdout",
     "output_type": "stream",
     "text": [
      "10/10 [==============================] - 8s 246ms/step\n"
     ]
    }
   ],
   "source": [
    "#let's now analyze some predictions of the model\n",
    "y_pred = model.predict(X_seq, verbose=1, batch_size=1024)\n"
   ]
  },
  {
   "cell_type": "code",
   "execution_count": 51,
   "id": "0hrMFmhbLvv9",
   "metadata": {
    "colab": {
     "base_uri": "https://localhost:8080/"
    },
    "id": "0hrMFmhbLvv9",
    "outputId": "a216ecbd-9895-4836-f4b2-cbc4bca9a0ad"
   },
   "outputs": [
    {
     "name": "stdout",
     "output_type": "stream",
     "text": [
      "'In a large bowl, blend together butter or margarine, white sugar, 1/2 cup brown sugar, sour cream, eggs, and vanilla.  Add to these ingredients the flour, baking powder, and soda.  Blend until smooth.**To Make Filling:  Combine cinnamon and 1/4 cup brown sugar.**Grease and flour a large Bundt pan.  Pour 1/2 of the batter into the prepared pan.  Sprinkle the cinnamon sugar mix on top of the batter in the pan, and cover with the remaining batter.**Bake at 350 degrees F (175 degrees C) for 45 to 50 minutes.  Cool.**Make a thick glaze by mixing together confectioners'' sugar with 2 to 3 tablespoons milk until smooth.  Pour over cooled cake, and add sprinkles if desired.**'\n",
      "{'ingredients', 'cup', 'sugar', \"'\", 'brown', 'sour', 'cover', 'to', 'thick', 'degrees', '*', '1/4', ')', 'mix', '350', 'F', 'top', 'Bundt', 'smooth', 'confectioners', 'together', 'the', 'blend', 'Cool.**Make', 'C', 'soda', 'glaze', 'Filling', 'Add', 'with', 'Combine', 'mixing', ':', 'large', '(', 'these', 'baking', 'batter', 'in', 'add', ' ', 'sprinkles', ',', 'bowl', 'sugar.**Grease', '1/2', 'for', 'and', 'Pour', '.', 'until', 'Blend', '2', 'tablespoons', 'by', 'cooled', 'eggs', 'In', 'pan', '175', '45', 'a', 'or', 'Make', 'on', 'minutes', '3', 'at', 'batter.**Bake', 'smooth.**To', 'if', 'of', 'powder', '50', 'prepared', 'desired', 'white', 'remaining', 'into', 'over', 'Sprinkle'}\n"
     ]
    }
   ],
   "source": [
    "i = 332\n",
    "pred_i = y_pred[i] > 0.05\n",
    "print(tokenized[i])\n",
    "\n",
    "\n",
    "ingreds = [t.text for t, p in zip(tokenized[i], pred_i) if  not p]\n",
    "print(set(ingreds))\n"
   ]
  },
  {
   "cell_type": "markdown",
   "id": "FoycIBt_eGGm",
   "metadata": {
    "id": "FoycIBt_eGGm"
   },
   "source": [
    "### Evaluate the test data"
   ]
  },
  {
   "cell_type": "code",
   "execution_count": 54,
   "id": "vm5tOFuzMuDl",
   "metadata": {
    "id": "vm5tOFuzMuDl"
   },
   "outputs": [],
   "source": [
    "#apply the preprocessing function on each row from df[\"Directions\"]\n",
    "for i in range(0,2469):\n",
    "  test_df.at[test_df.index[i], 'Directions']=preprocess(test_df.at[test_df.index[i], 'Directions'])\n",
    "\n",
    "\n"
   ]
  },
  {
   "cell_type": "code",
   "execution_count": 56,
   "id": "-tIFEqRkh2JZ",
   "metadata": {
    "colab": {
     "base_uri": "https://localhost:8080/"
    },
    "id": "-tIFEqRkh2JZ",
    "outputId": "8ee45203-9f45-44b2-8048-dff322138654"
   },
   "outputs": [
    {
     "name": "stderr",
     "output_type": "stream",
     "text": [
      "/usr/local/lib/python3.7/dist-packages/ipykernel_launcher.py:1: SettingWithCopyWarning: \n",
      "A value is trying to be set on a copy of a slice from a DataFrame.\n",
      "Try using .loc[row_indexer,col_indexer] = value instead\n",
      "\n",
      "See the caveats in the documentation: https://pandas.pydata.org/pandas-docs/stable/user_guide/indexing.html#returning-a-view-versus-a-copy\n",
      "  \"\"\"Entry point for launching an IPython kernel.\n"
     ]
    },
    {
     "name": "stdout",
     "output_type": "stream",
     "text": [
      "3/3 [==============================] - 1s 198ms/step\n"
     ]
    }
   ],
   "source": [
    "test_df[\"Processed_ingredients\"]=\"\"\n",
    "for i in range(0,2469):\n",
    "  test_df.at[test_df.index[i], 'Processed_ingredients']=test_df.at[test_df.index[i], 'Ingredients'].split(\",\")\n",
    "\n",
    "\n",
    "eval_ingredients = test_df['Processed_ingredients'].values\n",
    "eval_tokenized = [nlp(t) for t in test_df.Directions.values]\n",
    "\n",
    "labels_test = get_labels2(eval_ingredients, tokenized)\n",
    "\n",
    "X_seq_test = prepare_sequences(eval_tokenized, max_len=MAX_LEN, vocab=vocab)\n",
    "\n",
    "y_seq = []\n",
    "for l in labels_test:\n",
    "    y_i = []\n",
    "    for i in range(MAX_LEN):\n",
    "        try:\n",
    "            y_i.append(float(l[i]))\n",
    "        except:\n",
    "            y_i.append(0.0)\n",
    "    y_seq.append(np.array(y_i))\n",
    "y_seq = np.array(y_seq)\n",
    "y_seq = y_seq.reshape(y_seq.shape[0], y_seq.shape[1], 1)\n",
    "\n",
    "\n",
    "y_pred_test = model.predict(X_seq_test, verbose=1, batch_size=1024)\n"
   ]
  },
  {
   "cell_type": "code",
   "execution_count": 57,
   "id": "UBw3GjhkRJwN",
   "metadata": {
    "colab": {
     "base_uri": "https://localhost:8080/"
    },
    "id": "UBw3GjhkRJwN",
    "outputId": "c66b421e-18fe-4a76-b354-f22073c87c63"
   },
   "outputs": [
    {
     "name": "stdout",
     "output_type": "stream",
     "text": [
      "\n",
      "blender food processor puree basil leaves olive oil garlic mix pine nuts parmesan cheese continue processing desired consistency reached preheat broiler slice italian bread desired thickness spread layer pesto slice top roma plum tomatoes mozzarella cheese place topped bread slices single layer large baking sheet broil minutes cheese bubbly lightly browned\n",
      "{'olive', 'cheese', 'parmesan', 'basil', 'mozzarella', 'plum', 'garlic', 'bread'}\n"
     ]
    }
   ],
   "source": [
    "#let's check the results for a random prediction\n",
    "i = 893\n",
    "pred_i = y_pred_test[i] > 0.05\n",
    "print()\n",
    "\n",
    "ingreds = [t.text for t, p in zip(eval_tokenized[i], pred_i) if p]\n",
    "print(eval_tokenized[i])\n",
    "print(set(ingreds))\n",
    "\n",
    "#looks like the results are decent, the model identified some of the ingredients, although not all of them"
   ]
  },
  {
   "cell_type": "code",
   "execution_count": 58,
   "id": "geZGxFfpjpKI",
   "metadata": {
    "colab": {
     "base_uri": "https://localhost:8080/"
    },
    "id": "geZGxFfpjpKI",
    "outputId": "95f84b41-ca70-4313-8dd6-d62f7d397b48"
   },
   "outputs": [
    {
     "name": "stdout",
     "output_type": "stream",
     "text": [
      "10/10 [==============================] - 1s 91ms/step - loss: 0.0489 - accuracy: 0.8740\n",
      "Test score: 0.04891388863325119\n",
      "Test accuracy: 0.8739850521087646\n"
     ]
    }
   ],
   "source": [
    "#check the accuracy on the test set\n",
    "score, acc = model.evaluate(X_seq_test, y_seq, batch_size=256)\n",
    "print('Test score:', score)\n",
    "print('Test accuracy:', acc)"
   ]
  },
  {
   "cell_type": "code",
   "execution_count": 61,
   "id": "XzlWYn9o1q4v",
   "metadata": {
    "id": "XzlWYn9o1q4v"
   },
   "outputs": [],
   "source": [
    "#save model\n",
    "model.save('my_foodstyles_model.h5')"
   ]
  },
  {
   "cell_type": "code",
   "execution_count": 84,
   "id": "IB216sXlyRRK",
   "metadata": {
    "colab": {
     "base_uri": "https://localhost:8080/"
    },
    "id": "IB216sXlyRRK",
    "outputId": "6d72b914-4fe2-43cf-84b6-5ad0ffae28ec"
   },
   "outputs": [
    {
     "name": "stdout",
     "output_type": "stream",
     "text": [
      "1/1 [==============================] - 0s 23ms/step\n",
      "boil the eggs and add cheese and cream\n",
      "{'eggs', 'the', 'cheese', 'add', 'boil', 'and'}\n"
     ]
    }
   ],
   "source": [
    "eval_tokenized2 = [nlp(t) for t in [\"boil the eggs and add cheese and cream\", \"add flour butter beat egg cook for one hour\"]]\n",
    "\n",
    "#labels_test = get_labels2(eval_ingredients, tokenized)\n",
    "\n",
    "X_seq_test2 = prepare_sequences(eval_tokenized2, max_len=MAX_LEN, vocab=vocab)\n",
    "\n",
    "y_pred_test = model.predict(X_seq_test2, verbose=1, batch_size=1024)\n",
    "pred_i = y_pred_test[1] > 0.05\n",
    "\n",
    "ingreds = [t.text for t, p in zip(eval_tokenized2[0], pred_i) if p]\n",
    "print(eval_tokenized2[0])\n",
    "print(set(ingreds))"
   ]
  },
  {
   "cell_type": "markdown",
   "id": "ZEwaXOm58mNt",
   "metadata": {
    "id": "ZEwaXOm58mNt"
   },
   "source": [
    "### Inference\n",
    "\n",
    "I will load the saved model and perform inference in the specified way, returning the specified output."
   ]
  },
  {
   "cell_type": "code",
   "execution_count": 65,
   "id": "9xncguoB898O",
   "metadata": {
    "id": "9xncguoB898O"
   },
   "outputs": [],
   "source": [
    "model1 = tf.keras.models.load_model('my_foodstyles_model.h5')"
   ]
  },
  {
   "cell_type": "code",
   "execution_count": 90,
   "id": "-Sf6_0RI3pY7",
   "metadata": {
    "colab": {
     "base_uri": "https://localhost:8080/"
    },
    "id": "-Sf6_0RI3pY7",
    "outputId": "f0657bc1-020b-4963-e406-ccc522fc1766"
   },
   "outputs": [
    {
     "name": "stdout",
     "output_type": "stream",
     "text": [
      "1/1 [==============================] - 0s 32ms/step\n",
      "[['mix', 0, 3], ['flour', 4, 9], ['butter', 10, 16], ['beat', 17, 21], ['egg', 22, 25], ['cook', 26, 30]]\n",
      "1/1 [==============================] - 0s 23ms/step\n",
      "[['boil', 0, 4], ['pasta', 5, 10], ['use', 11, 14], ['sauce', 27, 32]]\n"
     ]
    }
   ],
   "source": [
    "\n",
    "def inference(sentence):\n",
    "  eval_tokenized2 = [nlp(t) for t in [sentence]]\n",
    "\n",
    "  labels_test = get_labels2(eval_ingredients, tokenized)\n",
    "\n",
    "  X_seq_test2 = prepare_sequences(eval_tokenized2, max_len=MAX_LEN, vocab=vocab)\n",
    "\n",
    "  y_pred_test = model1.predict(X_seq_test2, verbose=1, batch_size=1024)\n",
    "  pred_i = y_pred_test[0] > 0.05\n",
    "\n",
    "  ingreds = [t.text for t, p in zip(eval_tokenized2[0], pred_i) if p]\n",
    "\n",
    "  res=[]\n",
    "  \n",
    "  for i in ingreds:\n",
    "    res_line=[]\n",
    "    res_line.append(i)\n",
    "    res_line.append(sentence.find(i))\n",
    "    res_line.append(sentence.find(i)+len(i))\n",
    "    res.append(res_line)\n",
    "\n",
    "  return res\n",
    "\n",
    "\n",
    "# print(eval_tokenized2[0])\n",
    "# print(set(ingreds))\n",
    "\n",
    "\n",
    "print(inference(\"mix flour butter beat egg cook for one hour\"))\n",
    "print(inference(\"boil pasta use spatula add sauce\"))"
   ]
  },
  {
   "cell_type": "code",
   "execution_count": null,
   "id": "v1YCRTLI_hov",
   "metadata": {
    "id": "v1YCRTLI_hov"
   },
   "outputs": [],
   "source": []
  }
 ],
 "metadata": {
  "accelerator": "GPU",
  "colab": {
   "collapsed_sections": [],
   "name": "Foodstyles challenge.ipynb",
   "provenance": []
  },
  "kernelspec": {
   "display_name": "Python (tensorflow_env)",
   "language": "python",
   "name": "tensorflow"
  },
  "language_info": {
   "codemirror_mode": {
    "name": "ipython",
    "version": 3
   },
   "file_extension": ".py",
   "mimetype": "text/x-python",
   "name": "python",
   "nbconvert_exporter": "python",
   "pygments_lexer": "ipython3",
   "version": "3.9.5"
  }
 },
 "nbformat": 4,
 "nbformat_minor": 5
}
